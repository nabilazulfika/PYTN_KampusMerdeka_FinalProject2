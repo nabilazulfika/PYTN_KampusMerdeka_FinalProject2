{
  "cells": [
    {
      "cell_type": "code",
      "execution_count": null,
      "metadata": {
        "id": "dmC2N4aOplus",
        "colab": {
          "base_uri": "https://localhost:8080/"
        },
        "outputId": "992dfbea-18c6-4b72-91c9-fad5095aae0c"
      },
      "outputs": [
        {
          "output_type": "stream",
          "name": "stdout",
          "text": [
            "Drive already mounted at /content/drive; to attempt to forcibly remount, call drive.mount(\"/content/drive\", force_remount=True).\n"
          ]
        }
      ],
      "source": [
        "# from google.colab import drive\n",
        "# drive.mount('/content/drive')"
      ]
    },
    {
      "cell_type": "markdown",
      "metadata": {
        "id": "9IoPCbgJkMmr"
      },
      "source": [
        "# Import library and Preparing Data"
      ]
    },
    {
      "cell_type": "code",
      "execution_count": null,
      "metadata": {
        "id": "i3dU_LV1r6xI"
      },
      "outputs": [],
      "source": [
        "import numpy as np\n",
        "import pandas as pd\n",
        "import matplotlib.pyplot as plt\n",
        "import seaborn as sns\n",
        "\n",
        "from sklearn.linear_model import LogisticRegression\n",
        "from sklearn import svm\n",
        "from sklearn.neighbors import KNeighborsClassifier\n",
        "from sklearn.naive_bayes import GaussianNB\n",
        "from sklearn.ensemble import RandomForestClassifier\n",
        "from sklearn.tree import DecisionTreeClassifier\n",
        "\n",
        "from sklearn.preprocessing import StandardScaler\n",
        "from sklearn.model_selection import train_test_split\n",
        "\n",
        "from sklearn import metrics\n",
        "from sklearn.metrics import accuracy_score\n",
        "from sklearn.metrics import confusion_matrix, classification_report\n",
        "from sklearn.metrics import precision_score, recall_score, f1_score\n",
        "\n",
        "import pickle"
      ]
    },
    {
      "cell_type": "code",
      "execution_count": null,
      "metadata": {
        "id": "sdmMY9UTp9aO"
      },
      "outputs": [],
      "source": [
        "df = pd.read_csv(\"/content/drive/MyDrive/weatherAUS.csv\", parse_dates=['Date'])"
      ]
    },
    {
      "cell_type": "markdown",
      "metadata": {
        "id": "JopTZ8GASH4Z"
      },
      "source": [
        "Mari kita cek dimensi data yang kita miliki."
      ]
    },
    {
      "cell_type": "code",
      "execution_count": null,
      "metadata": {
        "colab": {
          "base_uri": "https://localhost:8080/"
        },
        "id": "dmCnLzMvsLLs",
        "outputId": "59ea943c-648f-4320-fcfb-e20e7336e7b6"
      },
      "outputs": [
        {
          "output_type": "execute_result",
          "data": {
            "text/plain": [
              "(145460, 23)"
            ]
          },
          "metadata": {},
          "execution_count": 4
        }
      ],
      "source": [
        "df.shape"
      ]
    },
    {
      "cell_type": "markdown",
      "metadata": {
        "id": "B47hxpQdkTdv"
      },
      "source": [
        "Dimensi data:\n",
        "- 23 kolom\n",
        "- 145.460 baris"
      ]
    },
    {
      "cell_type": "markdown",
      "metadata": {
        "id": "Xt8B0FF_ScO6"
      },
      "source": [
        "Lihat lima data teratas dari df."
      ]
    },
    {
      "cell_type": "code",
      "execution_count": null,
      "metadata": {
        "colab": {
          "base_uri": "https://localhost:8080/",
          "height": 240
        },
        "id": "EWDgeYSWsBI0",
        "outputId": "a8c1f3b5-6736-4de1-c186-562ad055d407"
      },
      "outputs": [
        {
          "output_type": "execute_result",
          "data": {
            "text/plain": [
              "        Date Location  MinTemp  MaxTemp  Rainfall  Evaporation  Sunshine  \\\n",
              "0 2008-12-01   Albury     13.4     22.9       0.6          NaN       NaN   \n",
              "1 2008-12-02   Albury      7.4     25.1       0.0          NaN       NaN   \n",
              "\n",
              "  WindGustDir  WindGustSpeed WindDir9am  ... Humidity9am  Humidity3pm  \\\n",
              "0           W           44.0          W  ...        71.0         22.0   \n",
              "1         WNW           44.0        NNW  ...        44.0         25.0   \n",
              "\n",
              "   Pressure9am  Pressure3pm  Cloud9am  Cloud3pm  Temp9am  Temp3pm  RainToday  \\\n",
              "0       1007.7       1007.1       8.0       NaN     16.9     21.8         No   \n",
              "1       1010.6       1007.8       NaN       NaN     17.2     24.3         No   \n",
              "\n",
              "   RainTomorrow  \n",
              "0            No  \n",
              "1            No  \n",
              "\n",
              "[2 rows x 23 columns]"
            ],
            "text/html": [
              "\n",
              "  <div id=\"df-08479b56-4250-49a3-b4bb-8feb8da9ab07\">\n",
              "    <div class=\"colab-df-container\">\n",
              "      <div>\n",
              "<style scoped>\n",
              "    .dataframe tbody tr th:only-of-type {\n",
              "        vertical-align: middle;\n",
              "    }\n",
              "\n",
              "    .dataframe tbody tr th {\n",
              "        vertical-align: top;\n",
              "    }\n",
              "\n",
              "    .dataframe thead th {\n",
              "        text-align: right;\n",
              "    }\n",
              "</style>\n",
              "<table border=\"1\" class=\"dataframe\">\n",
              "  <thead>\n",
              "    <tr style=\"text-align: right;\">\n",
              "      <th></th>\n",
              "      <th>Date</th>\n",
              "      <th>Location</th>\n",
              "      <th>MinTemp</th>\n",
              "      <th>MaxTemp</th>\n",
              "      <th>Rainfall</th>\n",
              "      <th>Evaporation</th>\n",
              "      <th>Sunshine</th>\n",
              "      <th>WindGustDir</th>\n",
              "      <th>WindGustSpeed</th>\n",
              "      <th>WindDir9am</th>\n",
              "      <th>...</th>\n",
              "      <th>Humidity9am</th>\n",
              "      <th>Humidity3pm</th>\n",
              "      <th>Pressure9am</th>\n",
              "      <th>Pressure3pm</th>\n",
              "      <th>Cloud9am</th>\n",
              "      <th>Cloud3pm</th>\n",
              "      <th>Temp9am</th>\n",
              "      <th>Temp3pm</th>\n",
              "      <th>RainToday</th>\n",
              "      <th>RainTomorrow</th>\n",
              "    </tr>\n",
              "  </thead>\n",
              "  <tbody>\n",
              "    <tr>\n",
              "      <th>0</th>\n",
              "      <td>2008-12-01</td>\n",
              "      <td>Albury</td>\n",
              "      <td>13.4</td>\n",
              "      <td>22.9</td>\n",
              "      <td>0.6</td>\n",
              "      <td>NaN</td>\n",
              "      <td>NaN</td>\n",
              "      <td>W</td>\n",
              "      <td>44.0</td>\n",
              "      <td>W</td>\n",
              "      <td>...</td>\n",
              "      <td>71.0</td>\n",
              "      <td>22.0</td>\n",
              "      <td>1007.7</td>\n",
              "      <td>1007.1</td>\n",
              "      <td>8.0</td>\n",
              "      <td>NaN</td>\n",
              "      <td>16.9</td>\n",
              "      <td>21.8</td>\n",
              "      <td>No</td>\n",
              "      <td>No</td>\n",
              "    </tr>\n",
              "    <tr>\n",
              "      <th>1</th>\n",
              "      <td>2008-12-02</td>\n",
              "      <td>Albury</td>\n",
              "      <td>7.4</td>\n",
              "      <td>25.1</td>\n",
              "      <td>0.0</td>\n",
              "      <td>NaN</td>\n",
              "      <td>NaN</td>\n",
              "      <td>WNW</td>\n",
              "      <td>44.0</td>\n",
              "      <td>NNW</td>\n",
              "      <td>...</td>\n",
              "      <td>44.0</td>\n",
              "      <td>25.0</td>\n",
              "      <td>1010.6</td>\n",
              "      <td>1007.8</td>\n",
              "      <td>NaN</td>\n",
              "      <td>NaN</td>\n",
              "      <td>17.2</td>\n",
              "      <td>24.3</td>\n",
              "      <td>No</td>\n",
              "      <td>No</td>\n",
              "    </tr>\n",
              "  </tbody>\n",
              "</table>\n",
              "<p>2 rows × 23 columns</p>\n",
              "</div>\n",
              "      <button class=\"colab-df-convert\" onclick=\"convertToInteractive('df-08479b56-4250-49a3-b4bb-8feb8da9ab07')\"\n",
              "              title=\"Convert this dataframe to an interactive table.\"\n",
              "              style=\"display:none;\">\n",
              "        \n",
              "  <svg xmlns=\"http://www.w3.org/2000/svg\" height=\"24px\"viewBox=\"0 0 24 24\"\n",
              "       width=\"24px\">\n",
              "    <path d=\"M0 0h24v24H0V0z\" fill=\"none\"/>\n",
              "    <path d=\"M18.56 5.44l.94 2.06.94-2.06 2.06-.94-2.06-.94-.94-2.06-.94 2.06-2.06.94zm-11 1L8.5 8.5l.94-2.06 2.06-.94-2.06-.94L8.5 2.5l-.94 2.06-2.06.94zm10 10l.94 2.06.94-2.06 2.06-.94-2.06-.94-.94-2.06-.94 2.06-2.06.94z\"/><path d=\"M17.41 7.96l-1.37-1.37c-.4-.4-.92-.59-1.43-.59-.52 0-1.04.2-1.43.59L10.3 9.45l-7.72 7.72c-.78.78-.78 2.05 0 2.83L4 21.41c.39.39.9.59 1.41.59.51 0 1.02-.2 1.41-.59l7.78-7.78 2.81-2.81c.8-.78.8-2.07 0-2.86zM5.41 20L4 18.59l7.72-7.72 1.47 1.35L5.41 20z\"/>\n",
              "  </svg>\n",
              "      </button>\n",
              "      \n",
              "  <style>\n",
              "    .colab-df-container {\n",
              "      display:flex;\n",
              "      flex-wrap:wrap;\n",
              "      gap: 12px;\n",
              "    }\n",
              "\n",
              "    .colab-df-convert {\n",
              "      background-color: #E8F0FE;\n",
              "      border: none;\n",
              "      border-radius: 50%;\n",
              "      cursor: pointer;\n",
              "      display: none;\n",
              "      fill: #1967D2;\n",
              "      height: 32px;\n",
              "      padding: 0 0 0 0;\n",
              "      width: 32px;\n",
              "    }\n",
              "\n",
              "    .colab-df-convert:hover {\n",
              "      background-color: #E2EBFA;\n",
              "      box-shadow: 0px 1px 2px rgba(60, 64, 67, 0.3), 0px 1px 3px 1px rgba(60, 64, 67, 0.15);\n",
              "      fill: #174EA6;\n",
              "    }\n",
              "\n",
              "    [theme=dark] .colab-df-convert {\n",
              "      background-color: #3B4455;\n",
              "      fill: #D2E3FC;\n",
              "    }\n",
              "\n",
              "    [theme=dark] .colab-df-convert:hover {\n",
              "      background-color: #434B5C;\n",
              "      box-shadow: 0px 1px 3px 1px rgba(0, 0, 0, 0.15);\n",
              "      filter: drop-shadow(0px 1px 2px rgba(0, 0, 0, 0.3));\n",
              "      fill: #FFFFFF;\n",
              "    }\n",
              "  </style>\n",
              "\n",
              "      <script>\n",
              "        const buttonEl =\n",
              "          document.querySelector('#df-08479b56-4250-49a3-b4bb-8feb8da9ab07 button.colab-df-convert');\n",
              "        buttonEl.style.display =\n",
              "          google.colab.kernel.accessAllowed ? 'block' : 'none';\n",
              "\n",
              "        async function convertToInteractive(key) {\n",
              "          const element = document.querySelector('#df-08479b56-4250-49a3-b4bb-8feb8da9ab07');\n",
              "          const dataTable =\n",
              "            await google.colab.kernel.invokeFunction('convertToInteractive',\n",
              "                                                     [key], {});\n",
              "          if (!dataTable) return;\n",
              "\n",
              "          const docLinkHtml = 'Like what you see? Visit the ' +\n",
              "            '<a target=\"_blank\" href=https://colab.research.google.com/notebooks/data_table.ipynb>data table notebook</a>'\n",
              "            + ' to learn more about interactive tables.';\n",
              "          element.innerHTML = '';\n",
              "          dataTable['output_type'] = 'display_data';\n",
              "          await google.colab.output.renderOutput(dataTable, element);\n",
              "          const docLink = document.createElement('div');\n",
              "          docLink.innerHTML = docLinkHtml;\n",
              "          element.appendChild(docLink);\n",
              "        }\n",
              "      </script>\n",
              "    </div>\n",
              "  </div>\n",
              "  "
            ]
          },
          "metadata": {},
          "execution_count": 5
        }
      ],
      "source": [
        "df.head(2)"
      ]
    },
    {
      "cell_type": "markdown",
      "metadata": {
        "id": "FdIIrfwOGkuB"
      },
      "source": [
        "Cek informasi mengenai dataset yang kita miliki."
      ]
    },
    {
      "cell_type": "code",
      "execution_count": null,
      "metadata": {
        "colab": {
          "base_uri": "https://localhost:8080/"
        },
        "id": "U0DqOo4VsJ5o",
        "outputId": "5b172742-7d94-454e-e2d3-5e356dcb3cd5"
      },
      "outputs": [
        {
          "output_type": "stream",
          "name": "stdout",
          "text": [
            "<class 'pandas.core.frame.DataFrame'>\n",
            "RangeIndex: 145460 entries, 0 to 145459\n",
            "Data columns (total 23 columns):\n",
            " #   Column         Non-Null Count   Dtype         \n",
            "---  ------         --------------   -----         \n",
            " 0   Date           145460 non-null  datetime64[ns]\n",
            " 1   Location       145460 non-null  object        \n",
            " 2   MinTemp        143975 non-null  float64       \n",
            " 3   MaxTemp        144199 non-null  float64       \n",
            " 4   Rainfall       142199 non-null  float64       \n",
            " 5   Evaporation    82670 non-null   float64       \n",
            " 6   Sunshine       75625 non-null   float64       \n",
            " 7   WindGustDir    135134 non-null  object        \n",
            " 8   WindGustSpeed  135197 non-null  float64       \n",
            " 9   WindDir9am     134894 non-null  object        \n",
            " 10  WindDir3pm     141232 non-null  object        \n",
            " 11  WindSpeed9am   143693 non-null  float64       \n",
            " 12  WindSpeed3pm   142398 non-null  float64       \n",
            " 13  Humidity9am    142806 non-null  float64       \n",
            " 14  Humidity3pm    140953 non-null  float64       \n",
            " 15  Pressure9am    130395 non-null  float64       \n",
            " 16  Pressure3pm    130432 non-null  float64       \n",
            " 17  Cloud9am       89572 non-null   float64       \n",
            " 18  Cloud3pm       86102 non-null   float64       \n",
            " 19  Temp9am        143693 non-null  float64       \n",
            " 20  Temp3pm        141851 non-null  float64       \n",
            " 21  RainToday      142199 non-null  object        \n",
            " 22  RainTomorrow   142193 non-null  object        \n",
            "dtypes: datetime64[ns](1), float64(16), object(6)\n",
            "memory usage: 25.5+ MB\n"
          ]
        }
      ],
      "source": [
        "df.info()"
      ]
    },
    {
      "cell_type": "markdown",
      "metadata": {
        "id": "mm0ec9e2Gwou"
      },
      "source": [
        "Dari informasi diatas, diketahui bahwa ada banyak sekali atribut yang memiliki nilai null, untuk itu penting sekali untuk kita melakukan cleaning data terlebih dahulu."
      ]
    },
    {
      "cell_type": "markdown",
      "metadata": {
        "id": "cJorZ2bul-3B"
      },
      "source": [
        "# Cleaning Data\n",
        "\n",
        "Sebelum pemrosesan data kita lakukan untuk keperluan Machine Learning, kita perlu membersihkan data terlebih dahulu, selain agar mendapatkan akurasi data yang bagus kita juga jadi lebih mudah nantinya saat mengolah data tersebut."
      ]
    },
    {
      "cell_type": "markdown",
      "metadata": {
        "id": "UN3Tbhg6TXNZ"
      },
      "source": [
        "**Periksa apakah ada nilai null atau tidak.**"
      ]
    },
    {
      "cell_type": "code",
      "execution_count": null,
      "metadata": {
        "colab": {
          "base_uri": "https://localhost:8080/"
        },
        "id": "_W5x9vNEsQ8C",
        "outputId": "f0aca0a7-5ec6-4dec-ff84-12088836b5fa"
      },
      "outputs": [
        {
          "output_type": "execute_result",
          "data": {
            "text/plain": [
              "Date                 0\n",
              "Location             0\n",
              "MinTemp           1485\n",
              "MaxTemp           1261\n",
              "Rainfall          3261\n",
              "Evaporation      62790\n",
              "Sunshine         69835\n",
              "WindGustDir      10326\n",
              "WindGustSpeed    10263\n",
              "WindDir9am       10566\n",
              "WindDir3pm        4228\n",
              "WindSpeed9am      1767\n",
              "WindSpeed3pm      3062\n",
              "Humidity9am       2654\n",
              "Humidity3pm       4507\n",
              "Pressure9am      15065\n",
              "Pressure3pm      15028\n",
              "Cloud9am         55888\n",
              "Cloud3pm         59358\n",
              "Temp9am           1767\n",
              "Temp3pm           3609\n",
              "RainToday         3261\n",
              "RainTomorrow      3267\n",
              "dtype: int64"
            ]
          },
          "metadata": {},
          "execution_count": 105
        }
      ],
      "source": [
        "df.isnull().sum()"
      ]
    },
    {
      "cell_type": "markdown",
      "metadata": {
        "id": "mKu_iYuPTdjG"
      },
      "source": [
        "Wah banyak sekali, untuk ini mari lakukan **dropna**."
      ]
    },
    {
      "cell_type": "code",
      "execution_count": null,
      "metadata": {
        "id": "wZaw7JXEuP9q",
        "colab": {
          "base_uri": "https://localhost:8080/"
        },
        "outputId": "c170c5ad-84c2-44da-effa-d35e2a3dc85d"
      },
      "outputs": [
        {
          "output_type": "execute_result",
          "data": {
            "text/plain": [
              "Date             0\n",
              "Location         0\n",
              "MinTemp          0\n",
              "MaxTemp          0\n",
              "Rainfall         0\n",
              "Evaporation      0\n",
              "Sunshine         0\n",
              "WindGustDir      0\n",
              "WindGustSpeed    0\n",
              "WindDir9am       0\n",
              "WindDir3pm       0\n",
              "WindSpeed9am     0\n",
              "WindSpeed3pm     0\n",
              "Humidity9am      0\n",
              "Humidity3pm      0\n",
              "Pressure9am      0\n",
              "Pressure3pm      0\n",
              "Cloud9am         0\n",
              "Cloud3pm         0\n",
              "Temp9am          0\n",
              "Temp3pm          0\n",
              "RainToday        0\n",
              "RainTomorrow     0\n",
              "dtype: int64"
            ]
          },
          "metadata": {},
          "execution_count": 106
        }
      ],
      "source": [
        "df.dropna(inplace=True)\n",
        "df.isnull().sum()"
      ]
    },
    {
      "cell_type": "markdown",
      "metadata": {
        "id": "QoWEiqYLU870"
      },
      "source": [
        "Berhasil! Nilai null sudah teratasi."
      ]
    },
    {
      "cell_type": "markdown",
      "metadata": {
        "id": "xrMY-WUwVDvq"
      },
      "source": [
        "**Periksa apakah ada nilai terduplikat atau tidak.**"
      ]
    },
    {
      "cell_type": "code",
      "execution_count": null,
      "metadata": {
        "colab": {
          "base_uri": "https://localhost:8080/"
        },
        "id": "HWCN8Oy7yCak",
        "outputId": "8f3556bc-e748-43af-f19b-cae5638a43fa"
      },
      "outputs": [
        {
          "output_type": "execute_result",
          "data": {
            "text/plain": [
              "0"
            ]
          },
          "metadata": {},
          "execution_count": 75
        }
      ],
      "source": [
        "df.duplicated().sum()"
      ]
    },
    {
      "cell_type": "markdown",
      "metadata": {
        "id": "qwUT7FZvVLbs"
      },
      "source": [
        "Tidak ada nilai terduplikat. \n",
        "\n",
        "Yeay! Sekarang data kita sudah benar-benar bersih, selanjutnya kita perlu merapihkan data karena masih perlu diperiksa kembali apakah data-data ini sudah berisikan tipe data dan kolom-kolom yang memang kita perlukan atau tidak."
      ]
    },
    {
      "cell_type": "code",
      "source": [
        "df['Year'] = pd.DatetimeIndex(df['Date']).year\n",
        "df['Month'] = pd.DatetimeIndex(df['Date']).month\n",
        "df['Day'] = pd.DatetimeIndex(df['Date']).day"
      ],
      "metadata": {
        "id": "BXDgar7Goi9k"
      },
      "execution_count": null,
      "outputs": []
    },
    {
      "cell_type": "code",
      "execution_count": null,
      "metadata": {
        "id": "uQJ1Q-zvpeUr"
      },
      "outputs": [],
      "source": [
        "# simpan hasil cleaning data\n",
        "df.to_csv('weatherUAS_bersih.csv',index=False)"
      ]
    },
    {
      "cell_type": "markdown",
      "metadata": {
        "id": "c8EpuFh3oKSq"
      },
      "source": [
        "# Exploratory Data Analysis"
      ]
    },
    {
      "cell_type": "code",
      "execution_count": null,
      "metadata": {
        "colab": {
          "base_uri": "https://localhost:8080/",
          "height": 364
        },
        "id": "y2_98Ys8pAFk",
        "outputId": "f72eb701-19fd-45b8-b45f-4d4c2cb255f4"
      },
      "outputs": [
        {
          "output_type": "execute_result",
          "data": {
            "text/plain": [
              "            MinTemp       MaxTemp      Rainfall   Evaporation      Sunshine  \\\n",
              "count  56420.000000  56420.000000  56420.000000  56420.000000  56420.000000   \n",
              "mean      13.464770     24.219206      2.130397      5.503135      7.735626   \n",
              "std        6.416689      6.970676      7.014822      3.696282      3.758153   \n",
              "min       -6.700000      4.100000      0.000000      0.000000      0.000000   \n",
              "25%        8.600000     18.700000      0.000000      2.800000      5.000000   \n",
              "50%       13.200000     23.900000      0.000000      5.000000      8.600000   \n",
              "75%       18.400000     29.700000      0.600000      7.400000     10.700000   \n",
              "max       31.400000     48.100000    206.200000     81.200000     14.500000   \n",
              "\n",
              "       WindGustSpeed  WindSpeed9am  WindSpeed3pm   Humidity9am   Humidity3pm  \\\n",
              "count   56420.000000  56420.000000  56420.000000  56420.000000  56420.000000   \n",
              "mean       40.877366     15.667228     19.786778     65.874123     49.601985   \n",
              "std        13.335232      8.317005      8.510180     18.513289     20.197040   \n",
              "min         9.000000      2.000000      2.000000      0.000000      0.000000   \n",
              "25%        31.000000      9.000000     13.000000     55.000000     35.000000   \n",
              "50%        39.000000     15.000000     19.000000     67.000000     50.000000   \n",
              "75%        48.000000     20.000000     26.000000     79.000000     63.000000   \n",
              "max       124.000000     67.000000     76.000000    100.000000    100.000000   \n",
              "\n",
              "        Pressure9am   Pressure3pm      Cloud9am      Cloud3pm       Temp9am  \\\n",
              "count  56420.000000  56420.000000  56420.000000  56420.000000  56420.000000   \n",
              "mean    1017.239505   1014.795580      4.241705      4.326515     18.204961   \n",
              "std        6.909357      6.870892      2.797162      2.647251      6.567991   \n",
              "min      980.500000    977.100000      0.000000      0.000000     -0.700000   \n",
              "25%     1012.700000   1010.100000      1.000000      2.000000     13.100000   \n",
              "50%     1017.200000   1014.700000      5.000000      5.000000     17.800000   \n",
              "75%     1021.800000   1019.400000      7.000000      7.000000     23.300000   \n",
              "max     1040.400000   1038.900000      8.000000      9.000000     39.400000   \n",
              "\n",
              "            Temp3pm          Year         Month           Day  \n",
              "count  56420.000000  56420.000000  56420.000000  56420.000000  \n",
              "mean      22.710333   2012.221074      6.425009     15.723910  \n",
              "std        6.836543      2.450978      3.451383      8.782527  \n",
              "min        3.700000   2007.000000      1.000000      1.000000  \n",
              "25%       17.400000   2010.000000      3.000000      8.000000  \n",
              "50%       22.400000   2012.000000      6.000000     16.000000  \n",
              "75%       27.900000   2014.000000      9.000000     23.000000  \n",
              "max       46.100000   2017.000000     12.000000     31.000000  "
            ],
            "text/html": [
              "\n",
              "  <div id=\"df-906b387b-66bd-4fc8-bd3f-faf2ef4d2a48\">\n",
              "    <div class=\"colab-df-container\">\n",
              "      <div>\n",
              "<style scoped>\n",
              "    .dataframe tbody tr th:only-of-type {\n",
              "        vertical-align: middle;\n",
              "    }\n",
              "\n",
              "    .dataframe tbody tr th {\n",
              "        vertical-align: top;\n",
              "    }\n",
              "\n",
              "    .dataframe thead th {\n",
              "        text-align: right;\n",
              "    }\n",
              "</style>\n",
              "<table border=\"1\" class=\"dataframe\">\n",
              "  <thead>\n",
              "    <tr style=\"text-align: right;\">\n",
              "      <th></th>\n",
              "      <th>MinTemp</th>\n",
              "      <th>MaxTemp</th>\n",
              "      <th>Rainfall</th>\n",
              "      <th>Evaporation</th>\n",
              "      <th>Sunshine</th>\n",
              "      <th>WindGustSpeed</th>\n",
              "      <th>WindSpeed9am</th>\n",
              "      <th>WindSpeed3pm</th>\n",
              "      <th>Humidity9am</th>\n",
              "      <th>Humidity3pm</th>\n",
              "      <th>Pressure9am</th>\n",
              "      <th>Pressure3pm</th>\n",
              "      <th>Cloud9am</th>\n",
              "      <th>Cloud3pm</th>\n",
              "      <th>Temp9am</th>\n",
              "      <th>Temp3pm</th>\n",
              "      <th>Year</th>\n",
              "      <th>Month</th>\n",
              "      <th>Day</th>\n",
              "    </tr>\n",
              "  </thead>\n",
              "  <tbody>\n",
              "    <tr>\n",
              "      <th>count</th>\n",
              "      <td>56420.000000</td>\n",
              "      <td>56420.000000</td>\n",
              "      <td>56420.000000</td>\n",
              "      <td>56420.000000</td>\n",
              "      <td>56420.000000</td>\n",
              "      <td>56420.000000</td>\n",
              "      <td>56420.000000</td>\n",
              "      <td>56420.000000</td>\n",
              "      <td>56420.000000</td>\n",
              "      <td>56420.000000</td>\n",
              "      <td>56420.000000</td>\n",
              "      <td>56420.000000</td>\n",
              "      <td>56420.000000</td>\n",
              "      <td>56420.000000</td>\n",
              "      <td>56420.000000</td>\n",
              "      <td>56420.000000</td>\n",
              "      <td>56420.000000</td>\n",
              "      <td>56420.000000</td>\n",
              "      <td>56420.000000</td>\n",
              "    </tr>\n",
              "    <tr>\n",
              "      <th>mean</th>\n",
              "      <td>13.464770</td>\n",
              "      <td>24.219206</td>\n",
              "      <td>2.130397</td>\n",
              "      <td>5.503135</td>\n",
              "      <td>7.735626</td>\n",
              "      <td>40.877366</td>\n",
              "      <td>15.667228</td>\n",
              "      <td>19.786778</td>\n",
              "      <td>65.874123</td>\n",
              "      <td>49.601985</td>\n",
              "      <td>1017.239505</td>\n",
              "      <td>1014.795580</td>\n",
              "      <td>4.241705</td>\n",
              "      <td>4.326515</td>\n",
              "      <td>18.204961</td>\n",
              "      <td>22.710333</td>\n",
              "      <td>2012.221074</td>\n",
              "      <td>6.425009</td>\n",
              "      <td>15.723910</td>\n",
              "    </tr>\n",
              "    <tr>\n",
              "      <th>std</th>\n",
              "      <td>6.416689</td>\n",
              "      <td>6.970676</td>\n",
              "      <td>7.014822</td>\n",
              "      <td>3.696282</td>\n",
              "      <td>3.758153</td>\n",
              "      <td>13.335232</td>\n",
              "      <td>8.317005</td>\n",
              "      <td>8.510180</td>\n",
              "      <td>18.513289</td>\n",
              "      <td>20.197040</td>\n",
              "      <td>6.909357</td>\n",
              "      <td>6.870892</td>\n",
              "      <td>2.797162</td>\n",
              "      <td>2.647251</td>\n",
              "      <td>6.567991</td>\n",
              "      <td>6.836543</td>\n",
              "      <td>2.450978</td>\n",
              "      <td>3.451383</td>\n",
              "      <td>8.782527</td>\n",
              "    </tr>\n",
              "    <tr>\n",
              "      <th>min</th>\n",
              "      <td>-6.700000</td>\n",
              "      <td>4.100000</td>\n",
              "      <td>0.000000</td>\n",
              "      <td>0.000000</td>\n",
              "      <td>0.000000</td>\n",
              "      <td>9.000000</td>\n",
              "      <td>2.000000</td>\n",
              "      <td>2.000000</td>\n",
              "      <td>0.000000</td>\n",
              "      <td>0.000000</td>\n",
              "      <td>980.500000</td>\n",
              "      <td>977.100000</td>\n",
              "      <td>0.000000</td>\n",
              "      <td>0.000000</td>\n",
              "      <td>-0.700000</td>\n",
              "      <td>3.700000</td>\n",
              "      <td>2007.000000</td>\n",
              "      <td>1.000000</td>\n",
              "      <td>1.000000</td>\n",
              "    </tr>\n",
              "    <tr>\n",
              "      <th>25%</th>\n",
              "      <td>8.600000</td>\n",
              "      <td>18.700000</td>\n",
              "      <td>0.000000</td>\n",
              "      <td>2.800000</td>\n",
              "      <td>5.000000</td>\n",
              "      <td>31.000000</td>\n",
              "      <td>9.000000</td>\n",
              "      <td>13.000000</td>\n",
              "      <td>55.000000</td>\n",
              "      <td>35.000000</td>\n",
              "      <td>1012.700000</td>\n",
              "      <td>1010.100000</td>\n",
              "      <td>1.000000</td>\n",
              "      <td>2.000000</td>\n",
              "      <td>13.100000</td>\n",
              "      <td>17.400000</td>\n",
              "      <td>2010.000000</td>\n",
              "      <td>3.000000</td>\n",
              "      <td>8.000000</td>\n",
              "    </tr>\n",
              "    <tr>\n",
              "      <th>50%</th>\n",
              "      <td>13.200000</td>\n",
              "      <td>23.900000</td>\n",
              "      <td>0.000000</td>\n",
              "      <td>5.000000</td>\n",
              "      <td>8.600000</td>\n",
              "      <td>39.000000</td>\n",
              "      <td>15.000000</td>\n",
              "      <td>19.000000</td>\n",
              "      <td>67.000000</td>\n",
              "      <td>50.000000</td>\n",
              "      <td>1017.200000</td>\n",
              "      <td>1014.700000</td>\n",
              "      <td>5.000000</td>\n",
              "      <td>5.000000</td>\n",
              "      <td>17.800000</td>\n",
              "      <td>22.400000</td>\n",
              "      <td>2012.000000</td>\n",
              "      <td>6.000000</td>\n",
              "      <td>16.000000</td>\n",
              "    </tr>\n",
              "    <tr>\n",
              "      <th>75%</th>\n",
              "      <td>18.400000</td>\n",
              "      <td>29.700000</td>\n",
              "      <td>0.600000</td>\n",
              "      <td>7.400000</td>\n",
              "      <td>10.700000</td>\n",
              "      <td>48.000000</td>\n",
              "      <td>20.000000</td>\n",
              "      <td>26.000000</td>\n",
              "      <td>79.000000</td>\n",
              "      <td>63.000000</td>\n",
              "      <td>1021.800000</td>\n",
              "      <td>1019.400000</td>\n",
              "      <td>7.000000</td>\n",
              "      <td>7.000000</td>\n",
              "      <td>23.300000</td>\n",
              "      <td>27.900000</td>\n",
              "      <td>2014.000000</td>\n",
              "      <td>9.000000</td>\n",
              "      <td>23.000000</td>\n",
              "    </tr>\n",
              "    <tr>\n",
              "      <th>max</th>\n",
              "      <td>31.400000</td>\n",
              "      <td>48.100000</td>\n",
              "      <td>206.200000</td>\n",
              "      <td>81.200000</td>\n",
              "      <td>14.500000</td>\n",
              "      <td>124.000000</td>\n",
              "      <td>67.000000</td>\n",
              "      <td>76.000000</td>\n",
              "      <td>100.000000</td>\n",
              "      <td>100.000000</td>\n",
              "      <td>1040.400000</td>\n",
              "      <td>1038.900000</td>\n",
              "      <td>8.000000</td>\n",
              "      <td>9.000000</td>\n",
              "      <td>39.400000</td>\n",
              "      <td>46.100000</td>\n",
              "      <td>2017.000000</td>\n",
              "      <td>12.000000</td>\n",
              "      <td>31.000000</td>\n",
              "    </tr>\n",
              "  </tbody>\n",
              "</table>\n",
              "</div>\n",
              "      <button class=\"colab-df-convert\" onclick=\"convertToInteractive('df-906b387b-66bd-4fc8-bd3f-faf2ef4d2a48')\"\n",
              "              title=\"Convert this dataframe to an interactive table.\"\n",
              "              style=\"display:none;\">\n",
              "        \n",
              "  <svg xmlns=\"http://www.w3.org/2000/svg\" height=\"24px\"viewBox=\"0 0 24 24\"\n",
              "       width=\"24px\">\n",
              "    <path d=\"M0 0h24v24H0V0z\" fill=\"none\"/>\n",
              "    <path d=\"M18.56 5.44l.94 2.06.94-2.06 2.06-.94-2.06-.94-.94-2.06-.94 2.06-2.06.94zm-11 1L8.5 8.5l.94-2.06 2.06-.94-2.06-.94L8.5 2.5l-.94 2.06-2.06.94zm10 10l.94 2.06.94-2.06 2.06-.94-2.06-.94-.94-2.06-.94 2.06-2.06.94z\"/><path d=\"M17.41 7.96l-1.37-1.37c-.4-.4-.92-.59-1.43-.59-.52 0-1.04.2-1.43.59L10.3 9.45l-7.72 7.72c-.78.78-.78 2.05 0 2.83L4 21.41c.39.39.9.59 1.41.59.51 0 1.02-.2 1.41-.59l7.78-7.78 2.81-2.81c.8-.78.8-2.07 0-2.86zM5.41 20L4 18.59l7.72-7.72 1.47 1.35L5.41 20z\"/>\n",
              "  </svg>\n",
              "      </button>\n",
              "      \n",
              "  <style>\n",
              "    .colab-df-container {\n",
              "      display:flex;\n",
              "      flex-wrap:wrap;\n",
              "      gap: 12px;\n",
              "    }\n",
              "\n",
              "    .colab-df-convert {\n",
              "      background-color: #E8F0FE;\n",
              "      border: none;\n",
              "      border-radius: 50%;\n",
              "      cursor: pointer;\n",
              "      display: none;\n",
              "      fill: #1967D2;\n",
              "      height: 32px;\n",
              "      padding: 0 0 0 0;\n",
              "      width: 32px;\n",
              "    }\n",
              "\n",
              "    .colab-df-convert:hover {\n",
              "      background-color: #E2EBFA;\n",
              "      box-shadow: 0px 1px 2px rgba(60, 64, 67, 0.3), 0px 1px 3px 1px rgba(60, 64, 67, 0.15);\n",
              "      fill: #174EA6;\n",
              "    }\n",
              "\n",
              "    [theme=dark] .colab-df-convert {\n",
              "      background-color: #3B4455;\n",
              "      fill: #D2E3FC;\n",
              "    }\n",
              "\n",
              "    [theme=dark] .colab-df-convert:hover {\n",
              "      background-color: #434B5C;\n",
              "      box-shadow: 0px 1px 3px 1px rgba(0, 0, 0, 0.15);\n",
              "      filter: drop-shadow(0px 1px 2px rgba(0, 0, 0, 0.3));\n",
              "      fill: #FFFFFF;\n",
              "    }\n",
              "  </style>\n",
              "\n",
              "      <script>\n",
              "        const buttonEl =\n",
              "          document.querySelector('#df-906b387b-66bd-4fc8-bd3f-faf2ef4d2a48 button.colab-df-convert');\n",
              "        buttonEl.style.display =\n",
              "          google.colab.kernel.accessAllowed ? 'block' : 'none';\n",
              "\n",
              "        async function convertToInteractive(key) {\n",
              "          const element = document.querySelector('#df-906b387b-66bd-4fc8-bd3f-faf2ef4d2a48');\n",
              "          const dataTable =\n",
              "            await google.colab.kernel.invokeFunction('convertToInteractive',\n",
              "                                                     [key], {});\n",
              "          if (!dataTable) return;\n",
              "\n",
              "          const docLinkHtml = 'Like what you see? Visit the ' +\n",
              "            '<a target=\"_blank\" href=https://colab.research.google.com/notebooks/data_table.ipynb>data table notebook</a>'\n",
              "            + ' to learn more about interactive tables.';\n",
              "          element.innerHTML = '';\n",
              "          dataTable['output_type'] = 'display_data';\n",
              "          await google.colab.output.renderOutput(dataTable, element);\n",
              "          const docLink = document.createElement('div');\n",
              "          docLink.innerHTML = docLinkHtml;\n",
              "          element.appendChild(docLink);\n",
              "        }\n",
              "      </script>\n",
              "    </div>\n",
              "  </div>\n",
              "  "
            ]
          },
          "metadata": {},
          "execution_count": 12
        }
      ],
      "source": [
        "df.describe()"
      ]
    },
    {
      "cell_type": "code",
      "execution_count": null,
      "metadata": {
        "colab": {
          "base_uri": "https://localhost:8080/",
          "height": 350
        },
        "id": "sOIvILNHyFdp",
        "outputId": "b4d75f6e-50c8-401f-ef65-58f2377b0d87"
      },
      "outputs": [
        {
          "output_type": "display_data",
          "data": {
            "text/plain": [
              "<Figure size 1080x360 with 2 Axes>"
            ],
            "image/png": "[encoded data removed]"
          },
          "metadata": {
            "needs_background": "light"
          }
        }
      ],
      "source": [
        "plt.figure(figsize=(15,5))\n",
        "\n",
        "plt.subplot(1,2,1)\n",
        "sns.countplot (x='RainToday', data=df)\n",
        "plt.title('Rain Today')\n",
        "\n",
        "plt.subplot(1,2,2)\n",
        "sns.countplot (x='RainTomorrow', data=df)\n",
        "plt.title('Rain Tomorrow')\n",
        "\n",
        "plt.show()"
      ]
    },
    {
      "cell_type": "code",
      "source": [
        "sns.displot(df['MinTemp'], kde=True, color='tomato', bins=30)\n",
        "plt.title('MinTemp');\n",
        "\n",
        "sns.displot(df['MaxTemp'], kde=True, color='tomato', bins=30)\n",
        "plt.title('MaxTemp');\n",
        "\n",
        "sns.displot(df['Rainfall'], kde=True, color='tomato', bins=30)\n",
        "plt.title('Rainfall');\n",
        "\n",
        "sns.displot(df['Evaporation'], kde=True, color='tomato', bins=30)\n",
        "plt.title('Evaporation');\n",
        "\n",
        "sns.displot(df['Sunshine'], kde=True, color='tomato', bins=30)\n",
        "plt.title('Sunshine');\n",
        "\n",
        "sns.displot(df['WindGustSpeed'], kde=True, color='tomato', bins=30)\n",
        "plt.title('WindGustSpeed');\n",
        "\n",
        "sns.displot(df['WindSpeed9am'], kde=True, color='tomato', bins=30)\n",
        "plt.title('WindSpeed9am');\n",
        "\n",
        "sns.displot(df['WindSpeed3pm'], kde=True, color='tomato', bins=30)\n",
        "plt.title('WindSpeed3pm');"
      ],
      "metadata": {
        "colab": {
          "base_uri": "https://localhost:8080/",
          "height": 1000
        },
        "id": "AWbgCZzBlAWC",
        "outputId": "2332a702-7115-4b36-b365-9fa3ee9b21ad"
      },
      "execution_count": null,
      "outputs": [
        {
          "output_type": "display_data",
          "data": {
            "text/plain": [
              "<Figure size 360x360 with 1 Axes>"
            ],
            "image/png": "[encoded data removed]"
          },
          "metadata": {
            "needs_background": "light"
          }
        },
        {
          "output_type": "display_data",
          "data": {
            "text/plain": [
              "<Figure size 360x360 with 1 Axes>"
            ],
            "image/png": "[encoded data removed]"
          },
          "metadata": {
            "needs_background": "light"
          }
        },
        {
          "output_type": "display_data",
          "data": {
            "text/plain": [
              "<Figure size 360x360 with 1 Axes>"
            ],
            "image/png": "[encoded data removed]"
          },
          "metadata": {
            "needs_background": "light"
          }
        },
        {
          "output_type": "display_data",
          "data": {
            "text/plain": [
              "<Figure size 360x360 with 1 Axes>"
            ],
            "image/png": "[encoded data removed]"
          },
          "metadata": {
            "needs_background": "light"
          }
        },
        {
          "output_type": "display_data",
          "data": {
            "text/plain": [
              "<Figure size 360x360 with 1 Axes>"
            ],
            "image/png": "[encoded data removed]"
          },
          "metadata": {
            "needs_background": "light"
          }
        },
        {
          "output_type": "display_data",
          "data": {
            "text/plain": [
              "<Figure size 360x360 with 1 Axes>"
            ],
            "image/png": "[encoded data removed]"
          },
          "metadata": {
            "needs_background": "light"
          }
        },
        {
          "output_type": "display_data",
          "data": {
            "text/plain": [
              "<Figure size 360x360 with 1 Axes>"
            ],
            "image/png": "[encoded data removed]"
          },
          "metadata": {
            "needs_background": "light"
          }
        },
        {
          "output_type": "display_data",
          "data": {
            "text/plain": [
              "<Figure size 360x360 with 1 Axes>"
            ],
            "image/png": "[encoded data removed]"
          },
          "metadata": {
            "needs_background": "light"
          }
        }
      ]
    },
    {
      "cell_type": "code",
      "source": [
        "plt.figure(figsize=(20,5))\n",
        "\n",
        "plt.subplot(2,3,1)\n",
        "sns.lineplot (x='Year', y='Rainfall', hue='RainToday', data=df)\n",
        "plt.title('Rain Today')\n",
        "\n",
        "plt.subplot(2,3,2)\n",
        "sns.lineplot (x='Year', y='Rainfall', hue='RainTomorrow', data=df)\n",
        "plt.title('Rain Tomorrow')\n",
        "\n",
        "plt.subplot(2,3,3)\n",
        "sns.lineplot (x='Month', y='Rainfall', hue='RainToday', data=df)\n",
        "plt.title('Rain Today')\n",
        "\n",
        "plt.subplot(2,3,4)\n",
        "sns.lineplot (x='Month', y='Rainfall', hue='RainTomorrow', data=df)\n",
        "plt.title('Rain Tomorrow')\n",
        "\n",
        "plt.subplot(2,3,5)\n",
        "sns.lineplot (x='Day', y='Rainfall', hue='RainToday', data=df)\n",
        "plt.title('Rain Today')\n",
        "\n",
        "plt.subplot(2,3,6)\n",
        "sns.lineplot (x='Day', y='Rainfall', hue='RainTomorrow', data=df)\n",
        "plt.title('Rain Tomorrow')\n",
        "\n",
        "plt.show()"
      ],
      "metadata": {
        "colab": {
          "base_uri": "https://localhost:8080/",
          "height": 287
        },
        "id": "Fo4EMoc5EMBj",
        "outputId": "f9b87a1f-7044-4003-e209-c7257ed2b454"
      },
      "execution_count": null,
      "outputs": [
        {
          "output_type": "display_data",
          "data": {
            "text/plain": [
              "<Figure size 1440x360 with 6 Axes>"
            ],
            "image/png": "[encoded data removed]"
          },
          "metadata": {
            "needs_background": "light"
          }
        }
      ]
    },
    {
      "cell_type": "markdown",
      "metadata": {
        "id": "J6K12d3Rr-Ue"
      },
      "source": [
        "# Preprocessing Data"
      ]
    },
    {
      "cell_type": "code",
      "source": [
        "# df.drop(columns=['Year', 'Month', 'Day'], inplace=True)\n",
        "df.drop(columns=['Date'], inplace=True)"
      ],
      "metadata": {
        "id": "WrfKLv7vFO-H"
      },
      "execution_count": null,
      "outputs": []
    },
    {
      "cell_type": "code",
      "execution_count": null,
      "metadata": {
        "id": "nqvnG34Pr50R",
        "colab": {
          "base_uri": "https://localhost:8080/",
          "height": 205
        },
        "outputId": "1454df38-4068-4219-88c8-32c32b2bb7ee"
      },
      "outputs": [
        {
          "output_type": "execute_result",
          "data": {
            "text/plain": [
              "      Location  MinTemp  MaxTemp  Rainfall  Evaporation  Sunshine  \\\n",
              "6049         4     17.9     35.2       0.0         12.0      12.3   \n",
              "6050         4     18.4     28.9       0.0         14.8      13.0   \n",
              "\n",
              "      WindGustDir  WindGustSpeed  WindDir9am  WindDir3pm  ...  Humidity9am  \\\n",
              "6049           11           48.0           1          12  ...         20.0   \n",
              "6050            8           37.0          10          10  ...         30.0   \n",
              "\n",
              "      Humidity3pm  Pressure9am  Pressure3pm  Cloud9am  Cloud3pm  Temp9am  \\\n",
              "6049         13.0       1006.3       1004.4       2.0       5.0     26.6   \n",
              "6050          8.0       1012.9       1012.1       1.0       1.0     20.3   \n",
              "\n",
              "      Temp3pm  RainToday  RainTomorrow  \n",
              "6049     33.4          0             0  \n",
              "6050     27.0          0             0  \n",
              "\n",
              "[2 rows x 22 columns]"
            ],
            "text/html": [
              "\n",
              "  <div id=\"df-23b7185c-8178-4ca3-82cb-389df7d0b1ef\">\n",
              "    <div class=\"colab-df-container\">\n",
              "      <div>\n",
              "<style scoped>\n",
              "    .dataframe tbody tr th:only-of-type {\n",
              "        vertical-align: middle;\n",
              "    }\n",
              "\n",
              "    .dataframe tbody tr th {\n",
              "        vertical-align: top;\n",
              "    }\n",
              "\n",
              "    .dataframe thead th {\n",
              "        text-align: right;\n",
              "    }\n",
              "</style>\n",
              "<table border=\"1\" class=\"dataframe\">\n",
              "  <thead>\n",
              "    <tr style=\"text-align: right;\">\n",
              "      <th></th>\n",
              "      <th>Location</th>\n",
              "      <th>MinTemp</th>\n",
              "      <th>MaxTemp</th>\n",
              "      <th>Rainfall</th>\n",
              "      <th>Evaporation</th>\n",
              "      <th>Sunshine</th>\n",
              "      <th>WindGustDir</th>\n",
              "      <th>WindGustSpeed</th>\n",
              "      <th>WindDir9am</th>\n",
              "      <th>WindDir3pm</th>\n",
              "      <th>...</th>\n",
              "      <th>Humidity9am</th>\n",
              "      <th>Humidity3pm</th>\n",
              "      <th>Pressure9am</th>\n",
              "      <th>Pressure3pm</th>\n",
              "      <th>Cloud9am</th>\n",
              "      <th>Cloud3pm</th>\n",
              "      <th>Temp9am</th>\n",
              "      <th>Temp3pm</th>\n",
              "      <th>RainToday</th>\n",
              "      <th>RainTomorrow</th>\n",
              "    </tr>\n",
              "  </thead>\n",
              "  <tbody>\n",
              "    <tr>\n",
              "      <th>6049</th>\n",
              "      <td>4</td>\n",
              "      <td>17.9</td>\n",
              "      <td>35.2</td>\n",
              "      <td>0.0</td>\n",
              "      <td>12.0</td>\n",
              "      <td>12.3</td>\n",
              "      <td>11</td>\n",
              "      <td>48.0</td>\n",
              "      <td>1</td>\n",
              "      <td>12</td>\n",
              "      <td>...</td>\n",
              "      <td>20.0</td>\n",
              "      <td>13.0</td>\n",
              "      <td>1006.3</td>\n",
              "      <td>1004.4</td>\n",
              "      <td>2.0</td>\n",
              "      <td>5.0</td>\n",
              "      <td>26.6</td>\n",
              "      <td>33.4</td>\n",
              "      <td>0</td>\n",
              "      <td>0</td>\n",
              "    </tr>\n",
              "    <tr>\n",
              "      <th>6050</th>\n",
              "      <td>4</td>\n",
              "      <td>18.4</td>\n",
              "      <td>28.9</td>\n",
              "      <td>0.0</td>\n",
              "      <td>14.8</td>\n",
              "      <td>13.0</td>\n",
              "      <td>8</td>\n",
              "      <td>37.0</td>\n",
              "      <td>10</td>\n",
              "      <td>10</td>\n",
              "      <td>...</td>\n",
              "      <td>30.0</td>\n",
              "      <td>8.0</td>\n",
              "      <td>1012.9</td>\n",
              "      <td>1012.1</td>\n",
              "      <td>1.0</td>\n",
              "      <td>1.0</td>\n",
              "      <td>20.3</td>\n",
              "      <td>27.0</td>\n",
              "      <td>0</td>\n",
              "      <td>0</td>\n",
              "    </tr>\n",
              "  </tbody>\n",
              "</table>\n",
              "<p>2 rows × 22 columns</p>\n",
              "</div>\n",
              "      <button class=\"colab-df-convert\" onclick=\"convertToInteractive('df-23b7185c-8178-4ca3-82cb-389df7d0b1ef')\"\n",
              "              title=\"Convert this dataframe to an interactive table.\"\n",
              "              style=\"display:none;\">\n",
              "        \n",
              "  <svg xmlns=\"http://www.w3.org/2000/svg\" height=\"24px\"viewBox=\"0 0 24 24\"\n",
              "       width=\"24px\">\n",
              "    <path d=\"M0 0h24v24H0V0z\" fill=\"none\"/>\n",
              "    <path d=\"M18.56 5.44l.94 2.06.94-2.06 2.06-.94-2.06-.94-.94-2.06-.94 2.06-2.06.94zm-11 1L8.5 8.5l.94-2.06 2.06-.94-2.06-.94L8.5 2.5l-.94 2.06-2.06.94zm10 10l.94 2.06.94-2.06 2.06-.94-2.06-.94-.94-2.06-.94 2.06-2.06.94z\"/><path d=\"M17.41 7.96l-1.37-1.37c-.4-.4-.92-.59-1.43-.59-.52 0-1.04.2-1.43.59L10.3 9.45l-7.72 7.72c-.78.78-.78 2.05 0 2.83L4 21.41c.39.39.9.59 1.41.59.51 0 1.02-.2 1.41-.59l7.78-7.78 2.81-2.81c.8-.78.8-2.07 0-2.86zM5.41 20L4 18.59l7.72-7.72 1.47 1.35L5.41 20z\"/>\n",
              "  </svg>\n",
              "      </button>\n",
              "      \n",
              "  <style>\n",
              "    .colab-df-container {\n",
              "      display:flex;\n",
              "      flex-wrap:wrap;\n",
              "      gap: 12px;\n",
              "    }\n",
              "\n",
              "    .colab-df-convert {\n",
              "      background-color: #E8F0FE;\n",
              "      border: none;\n",
              "      border-radius: 50%;\n",
              "      cursor: pointer;\n",
              "      display: none;\n",
              "      fill: #1967D2;\n",
              "      height: 32px;\n",
              "      padding: 0 0 0 0;\n",
              "      width: 32px;\n",
              "    }\n",
              "\n",
              "    .colab-df-convert:hover {\n",
              "      background-color: #E2EBFA;\n",
              "      box-shadow: 0px 1px 2px rgba(60, 64, 67, 0.3), 0px 1px 3px 1px rgba(60, 64, 67, 0.15);\n",
              "      fill: #174EA6;\n",
              "    }\n",
              "\n",
              "    [theme=dark] .colab-df-convert {\n",
              "      background-color: #3B4455;\n",
              "      fill: #D2E3FC;\n",
              "    }\n",
              "\n",
              "    [theme=dark] .colab-df-convert:hover {\n",
              "      background-color: #434B5C;\n",
              "      box-shadow: 0px 1px 3px 1px rgba(0, 0, 0, 0.15);\n",
              "      filter: drop-shadow(0px 1px 2px rgba(0, 0, 0, 0.3));\n",
              "      fill: #FFFFFF;\n",
              "    }\n",
              "  </style>\n",
              "\n",
              "      <script>\n",
              "        const buttonEl =\n",
              "          document.querySelector('#df-23b7185c-8178-4ca3-82cb-389df7d0b1ef button.colab-df-convert');\n",
              "        buttonEl.style.display =\n",
              "          google.colab.kernel.accessAllowed ? 'block' : 'none';\n",
              "\n",
              "        async function convertToInteractive(key) {\n",
              "          const element = document.querySelector('#df-23b7185c-8178-4ca3-82cb-389df7d0b1ef');\n",
              "          const dataTable =\n",
              "            await google.colab.kernel.invokeFunction('convertToInteractive',\n",
              "                                                     [key], {});\n",
              "          if (!dataTable) return;\n",
              "\n",
              "          const docLinkHtml = 'Like what you see? Visit the ' +\n",
              "            '<a target=\"_blank\" href=https://colab.research.google.com/notebooks/data_table.ipynb>data table notebook</a>'\n",
              "            + ' to learn more about interactive tables.';\n",
              "          element.innerHTML = '';\n",
              "          dataTable['output_type'] = 'display_data';\n",
              "          await google.colab.output.renderOutput(dataTable, element);\n",
              "          const docLink = document.createElement('div');\n",
              "          docLink.innerHTML = docLinkHtml;\n",
              "          element.appendChild(docLink);\n",
              "        }\n",
              "      </script>\n",
              "    </div>\n",
              "  </div>\n",
              "  "
            ]
          },
          "metadata": {},
          "execution_count": 108
        }
      ],
      "source": [
        "from sklearn.preprocessing import LabelEncoder\n",
        "\n",
        "label = LabelEncoder()\n",
        "df['Location'] = label.fit_transform(df['Location'])\n",
        "df['WindGustDir'] = label.fit_transform(df['WindGustDir'])\n",
        "df['WindDir9am'] = label.fit_transform(df['WindDir9am'])\n",
        "df['WindDir3pm'] = label.fit_transform(df['WindDir3pm'])\n",
        "df['RainToday'] = label.fit_transform(df['RainToday'])\n",
        "df['RainTomorrow'] = label.fit_transform(df['RainTomorrow'])\n",
        "\n",
        "df.head(2)"
      ]
    },
    {
      "cell_type": "code",
      "execution_count": null,
      "metadata": {
        "id": "f0HHKmdf3LPd",
        "colab": {
          "base_uri": "https://localhost:8080/",
          "height": 430
        },
        "outputId": "3f2d0f5a-f487-4a58-ace1-e8589f0676c1"
      },
      "outputs": [
        {
          "output_type": "execute_result",
          "data": {
            "text/plain": [
              "<matplotlib.axes._subplots.AxesSubplot at 0x7fcac2d8ed10>"
            ]
          },
          "metadata": {},
          "execution_count": 10
        },
        {
          "output_type": "display_data",
          "data": {
            "text/plain": [
              "<Figure size 1440x360 with 2 Axes>"
            ],
            "image/png": "[encoded data removed]"
          },
          "metadata": {
            "needs_background": "light"
          }
        }
      ],
      "source": [
        "plt.figure(figsize=(20,5))\n",
        "sns.heatmap(df.corr(),annot=True)"
      ]
    },
    {
      "cell_type": "code",
      "source": [
        "final_df = pd.DataFrame(df[['RainTomorrow', 'RainToday', 'Cloud9am', 'Cloud3pm', 'Humidity9am', 'Humidity3pm', \n",
        "            'Rainfall']])"
      ],
      "metadata": {
        "id": "yT6BPhd2ONa1"
      },
      "execution_count": null,
      "outputs": []
    },
    {
      "cell_type": "code",
      "source": [
        "# simpan hasil LabelEncoder\n",
        "final_df.to_csv('datax.csv',index=False)"
      ],
      "metadata": {
        "id": "0TW3vxjqzfV8"
      },
      "execution_count": null,
      "outputs": []
    },
    {
      "cell_type": "code",
      "source": [
        "featurescalling = [i for i in df.columns if i != 'RainTomorrow']"
      ],
      "metadata": {
        "id": "yat45z0Mf0NZ"
      },
      "execution_count": null,
      "outputs": []
    },
    {
      "cell_type": "code",
      "source": [
        "scaler = StandardScaler()\n",
        "df[featurescalling] = scaler.fit_transform(df[featurescalling])\n",
        "df.head()"
      ],
      "metadata": {
        "id": "EA5LqB__f42t",
        "colab": {
          "base_uri": "https://localhost:8080/",
          "height": 300
        },
        "outputId": "0dc92053-2403-4af3-f16d-86747b29a182"
      },
      "execution_count": null,
      "outputs": [
        {
          "output_type": "execute_result",
          "data": {
            "text/plain": [
              "          Date  Location   MinTemp   MaxTemp  Rainfall  Evaporation  Sunshine  \\\n",
              "6049 -1.534807 -1.181844  0.691208  1.575298 -0.303702     1.757691  1.214537   \n",
              "6050 -1.533634 -1.181844  0.769131  0.671504 -0.303702     2.515216  1.400800   \n",
              "6052 -1.531290 -1.181844  0.924976  1.919600 -0.303702     1.433038  0.762183   \n",
              "6053 -1.530117 -1.181844  1.314588  2.034368 -0.303702     1.595364  1.187928   \n",
              "6054 -1.528945 -1.181844  1.673032  2.407362 -0.303702     1.541255  0.176784   \n",
              "\n",
              "      WindGustDir  WindGustSpeed  WindDir9am  ...  Humidity9am  Humidity3pm  \\\n",
              "6049     0.733362       0.534126   -1.313714  ...    -2.477924    -1.812261   \n",
              "6050     0.107353      -0.290764    0.617292  ...    -1.937767    -2.059824   \n",
              "6052    -0.518656       0.384146   -0.455489  ...    -1.289578    -1.366647   \n",
              "6053     1.359371      -0.740704    1.475517  ...    -1.559657    -1.366647   \n",
              "6054     1.359371      -0.440744   -0.026377  ...    -2.531940    -1.713236   \n",
              "\n",
              "      Pressure9am  Pressure3pm  Cloud9am  Cloud3pm   Temp9am   Temp3pm  \\\n",
              "6049    -1.583303    -1.513002 -0.801428  0.254411  1.278186  1.563621   \n",
              "6050    -0.628068    -0.392322 -1.158937 -1.256603  0.318980  0.627467   \n",
              "6052    -0.714907    -0.814396 -1.158937  0.632165  1.597921  1.783032   \n",
              "6053    -0.657014    -0.828951 -1.158937  0.254411  1.658823  1.885424   \n",
              "6054    -0.946479    -1.076373 -1.158937  0.632165  2.343970  2.177972   \n",
              "\n",
              "      RainToday  RainTomorrow  \n",
              "6049  -0.532445             0  \n",
              "6050  -0.532445             0  \n",
              "6052  -0.532445             0  \n",
              "6053  -0.532445             0  \n",
              "6054  -0.532445             0  \n",
              "\n",
              "[5 rows x 23 columns]"
            ],
            "text/html": [
              "\n",
              "  <div id=\"df-5421bfa3-bb88-4e1c-b4e4-2741a40bfbaf\">\n",
              "    <div class=\"colab-df-container\">\n",
              "      <div>\n",
              "<style scoped>\n",
              "    .dataframe tbody tr th:only-of-type {\n",
              "        vertical-align: middle;\n",
              "    }\n",
              "\n",
              "    .dataframe tbody tr th {\n",
              "        vertical-align: top;\n",
              "    }\n",
              "\n",
              "    .dataframe thead th {\n",
              "        text-align: right;\n",
              "    }\n",
              "</style>\n",
              "<table border=\"1\" class=\"dataframe\">\n",
              "  <thead>\n",
              "    <tr style=\"text-align: right;\">\n",
              "      <th></th>\n",
              "      <th>Date</th>\n",
              "      <th>Location</th>\n",
              "      <th>MinTemp</th>\n",
              "      <th>MaxTemp</th>\n",
              "      <th>Rainfall</th>\n",
              "      <th>Evaporation</th>\n",
              "      <th>Sunshine</th>\n",
              "      <th>WindGustDir</th>\n",
              "      <th>WindGustSpeed</th>\n",
              "      <th>WindDir9am</th>\n",
              "      <th>...</th>\n",
              "      <th>Humidity9am</th>\n",
              "      <th>Humidity3pm</th>\n",
              "      <th>Pressure9am</th>\n",
              "      <th>Pressure3pm</th>\n",
              "      <th>Cloud9am</th>\n",
              "      <th>Cloud3pm</th>\n",
              "      <th>Temp9am</th>\n",
              "      <th>Temp3pm</th>\n",
              "      <th>RainToday</th>\n",
              "      <th>RainTomorrow</th>\n",
              "    </tr>\n",
              "  </thead>\n",
              "  <tbody>\n",
              "    <tr>\n",
              "      <th>6049</th>\n",
              "      <td>-1.534807</td>\n",
              "      <td>-1.181844</td>\n",
              "      <td>0.691208</td>\n",
              "      <td>1.575298</td>\n",
              "      <td>-0.303702</td>\n",
              "      <td>1.757691</td>\n",
              "      <td>1.214537</td>\n",
              "      <td>0.733362</td>\n",
              "      <td>0.534126</td>\n",
              "      <td>-1.313714</td>\n",
              "      <td>...</td>\n",
              "      <td>-2.477924</td>\n",
              "      <td>-1.812261</td>\n",
              "      <td>-1.583303</td>\n",
              "      <td>-1.513002</td>\n",
              "      <td>-0.801428</td>\n",
              "      <td>0.254411</td>\n",
              "      <td>1.278186</td>\n",
              "      <td>1.563621</td>\n",
              "      <td>-0.532445</td>\n",
              "      <td>0</td>\n",
              "    </tr>\n",
              "    <tr>\n",
              "      <th>6050</th>\n",
              "      <td>-1.533634</td>\n",
              "      <td>-1.181844</td>\n",
              "      <td>0.769131</td>\n",
              "      <td>0.671504</td>\n",
              "      <td>-0.303702</td>\n",
              "      <td>2.515216</td>\n",
              "      <td>1.400800</td>\n",
              "      <td>0.107353</td>\n",
              "      <td>-0.290764</td>\n",
              "      <td>0.617292</td>\n",
              "      <td>...</td>\n",
              "      <td>-1.937767</td>\n",
              "      <td>-2.059824</td>\n",
              "      <td>-0.628068</td>\n",
              "      <td>-0.392322</td>\n",
              "      <td>-1.158937</td>\n",
              "      <td>-1.256603</td>\n",
              "      <td>0.318980</td>\n",
              "      <td>0.627467</td>\n",
              "      <td>-0.532445</td>\n",
              "      <td>0</td>\n",
              "    </tr>\n",
              "    <tr>\n",
              "      <th>6052</th>\n",
              "      <td>-1.531290</td>\n",
              "      <td>-1.181844</td>\n",
              "      <td>0.924976</td>\n",
              "      <td>1.919600</td>\n",
              "      <td>-0.303702</td>\n",
              "      <td>1.433038</td>\n",
              "      <td>0.762183</td>\n",
              "      <td>-0.518656</td>\n",
              "      <td>0.384146</td>\n",
              "      <td>-0.455489</td>\n",
              "      <td>...</td>\n",
              "      <td>-1.289578</td>\n",
              "      <td>-1.366647</td>\n",
              "      <td>-0.714907</td>\n",
              "      <td>-0.814396</td>\n",
              "      <td>-1.158937</td>\n",
              "      <td>0.632165</td>\n",
              "      <td>1.597921</td>\n",
              "      <td>1.783032</td>\n",
              "      <td>-0.532445</td>\n",
              "      <td>0</td>\n",
              "    </tr>\n",
              "    <tr>\n",
              "      <th>6053</th>\n",
              "      <td>-1.530117</td>\n",
              "      <td>-1.181844</td>\n",
              "      <td>1.314588</td>\n",
              "      <td>2.034368</td>\n",
              "      <td>-0.303702</td>\n",
              "      <td>1.595364</td>\n",
              "      <td>1.187928</td>\n",
              "      <td>1.359371</td>\n",
              "      <td>-0.740704</td>\n",
              "      <td>1.475517</td>\n",
              "      <td>...</td>\n",
              "      <td>-1.559657</td>\n",
              "      <td>-1.366647</td>\n",
              "      <td>-0.657014</td>\n",
              "      <td>-0.828951</td>\n",
              "      <td>-1.158937</td>\n",
              "      <td>0.254411</td>\n",
              "      <td>1.658823</td>\n",
              "      <td>1.885424</td>\n",
              "      <td>-0.532445</td>\n",
              "      <td>0</td>\n",
              "    </tr>\n",
              "    <tr>\n",
              "      <th>6054</th>\n",
              "      <td>-1.528945</td>\n",
              "      <td>-1.181844</td>\n",
              "      <td>1.673032</td>\n",
              "      <td>2.407362</td>\n",
              "      <td>-0.303702</td>\n",
              "      <td>1.541255</td>\n",
              "      <td>0.176784</td>\n",
              "      <td>1.359371</td>\n",
              "      <td>-0.440744</td>\n",
              "      <td>-0.026377</td>\n",
              "      <td>...</td>\n",
              "      <td>-2.531940</td>\n",
              "      <td>-1.713236</td>\n",
              "      <td>-0.946479</td>\n",
              "      <td>-1.076373</td>\n",
              "      <td>-1.158937</td>\n",
              "      <td>0.632165</td>\n",
              "      <td>2.343970</td>\n",
              "      <td>2.177972</td>\n",
              "      <td>-0.532445</td>\n",
              "      <td>0</td>\n",
              "    </tr>\n",
              "  </tbody>\n",
              "</table>\n",
              "<p>5 rows × 23 columns</p>\n",
              "</div>\n",
              "      <button class=\"colab-df-convert\" onclick=\"convertToInteractive('df-5421bfa3-bb88-4e1c-b4e4-2741a40bfbaf')\"\n",
              "              title=\"Convert this dataframe to an interactive table.\"\n",
              "              style=\"display:none;\">\n",
              "        \n",
              "  <svg xmlns=\"http://www.w3.org/2000/svg\" height=\"24px\"viewBox=\"0 0 24 24\"\n",
              "       width=\"24px\">\n",
              "    <path d=\"M0 0h24v24H0V0z\" fill=\"none\"/>\n",
              "    <path d=\"M18.56 5.44l.94 2.06.94-2.06 2.06-.94-2.06-.94-.94-2.06-.94 2.06-2.06.94zm-11 1L8.5 8.5l.94-2.06 2.06-.94-2.06-.94L8.5 2.5l-.94 2.06-2.06.94zm10 10l.94 2.06.94-2.06 2.06-.94-2.06-.94-.94-2.06-.94 2.06-2.06.94z\"/><path d=\"M17.41 7.96l-1.37-1.37c-.4-.4-.92-.59-1.43-.59-.52 0-1.04.2-1.43.59L10.3 9.45l-7.72 7.72c-.78.78-.78 2.05 0 2.83L4 21.41c.39.39.9.59 1.41.59.51 0 1.02-.2 1.41-.59l7.78-7.78 2.81-2.81c.8-.78.8-2.07 0-2.86zM5.41 20L4 18.59l7.72-7.72 1.47 1.35L5.41 20z\"/>\n",
              "  </svg>\n",
              "      </button>\n",
              "      \n",
              "  <style>\n",
              "    .colab-df-container {\n",
              "      display:flex;\n",
              "      flex-wrap:wrap;\n",
              "      gap: 12px;\n",
              "    }\n",
              "\n",
              "    .colab-df-convert {\n",
              "      background-color: #E8F0FE;\n",
              "      border: none;\n",
              "      border-radius: 50%;\n",
              "      cursor: pointer;\n",
              "      display: none;\n",
              "      fill: #1967D2;\n",
              "      height: 32px;\n",
              "      padding: 0 0 0 0;\n",
              "      width: 32px;\n",
              "    }\n",
              "\n",
              "    .colab-df-convert:hover {\n",
              "      background-color: #E2EBFA;\n",
              "      box-shadow: 0px 1px 2px rgba(60, 64, 67, 0.3), 0px 1px 3px 1px rgba(60, 64, 67, 0.15);\n",
              "      fill: #174EA6;\n",
              "    }\n",
              "\n",
              "    [theme=dark] .colab-df-convert {\n",
              "      background-color: #3B4455;\n",
              "      fill: #D2E3FC;\n",
              "    }\n",
              "\n",
              "    [theme=dark] .colab-df-convert:hover {\n",
              "      background-color: #434B5C;\n",
              "      box-shadow: 0px 1px 3px 1px rgba(0, 0, 0, 0.15);\n",
              "      filter: drop-shadow(0px 1px 2px rgba(0, 0, 0, 0.3));\n",
              "      fill: #FFFFFF;\n",
              "    }\n",
              "  </style>\n",
              "\n",
              "      <script>\n",
              "        const buttonEl =\n",
              "          document.querySelector('#df-5421bfa3-bb88-4e1c-b4e4-2741a40bfbaf button.colab-df-convert');\n",
              "        buttonEl.style.display =\n",
              "          google.colab.kernel.accessAllowed ? 'block' : 'none';\n",
              "\n",
              "        async function convertToInteractive(key) {\n",
              "          const element = document.querySelector('#df-5421bfa3-bb88-4e1c-b4e4-2741a40bfbaf');\n",
              "          const dataTable =\n",
              "            await google.colab.kernel.invokeFunction('convertToInteractive',\n",
              "                                                     [key], {});\n",
              "          if (!dataTable) return;\n",
              "\n",
              "          const docLinkHtml = 'Like what you see? Visit the ' +\n",
              "            '<a target=\"_blank\" href=https://colab.research.google.com/notebooks/data_table.ipynb>data table notebook</a>'\n",
              "            + ' to learn more about interactive tables.';\n",
              "          element.innerHTML = '';\n",
              "          dataTable['output_type'] = 'display_data';\n",
              "          await google.colab.output.renderOutput(dataTable, element);\n",
              "          const docLink = document.createElement('div');\n",
              "          docLink.innerHTML = docLinkHtml;\n",
              "          element.appendChild(docLink);\n",
              "        }\n",
              "      </script>\n",
              "    </div>\n",
              "  </div>\n",
              "  "
            ]
          },
          "metadata": {},
          "execution_count": 22
        }
      ]
    },
    {
      "cell_type": "code",
      "source": [
        "with open('scaler.pkl', 'wb') as file:\n",
        "    pickle.dump(scaler, file)"
      ],
      "metadata": {
        "id": "d-BSdcW4gA4-"
      },
      "execution_count": null,
      "outputs": []
    },
    {
      "cell_type": "markdown",
      "metadata": {
        "id": "vS2hZOxYsE5w"
      },
      "source": [
        "# Modelling: Logistic Regression"
      ]
    },
    {
      "cell_type": "markdown",
      "metadata": {
        "id": "uROeeoqczID4"
      },
      "source": [
        "## Prediksi Apakah besok hujan?"
      ]
    },
    {
      "cell_type": "code",
      "source": [
        "scaler = StandardScaler()\n",
        "datax = final_df.drop(['RainTomorrow'], axis=1)"
      ],
      "metadata": {
        "id": "nGeSf998pS1R"
      },
      "execution_count": null,
      "outputs": []
    },
    {
      "cell_type": "code",
      "source": [
        "X = scaler.fit_transform(datax)\n",
        "y = final_df['RainTomorrow']\n",
        "print(X)\n",
        "\n",
        "x_train, x_test, y_train, y_test = train_test_split(X, y, test_size=0.2)"
      ],
      "metadata": {
        "id": "O_LBC6LApWT2",
        "colab": {
          "base_uri": "https://localhost:8080/"
        },
        "outputId": "1a55c462-53e4-4c47-bff5-992687e23d2a"
      },
      "execution_count": null,
      "outputs": [
        {
          "output_type": "stream",
          "name": "stdout",
          "text": [
            "[[-0.53244519 -0.80142825  0.25441126 -2.4779243  -1.81226109 -0.30370205]\n",
            " [-0.53244519 -1.15893659 -1.25660337 -1.93776698 -2.05982431 -0.30370205]\n",
            " [-0.53244519 -1.15893659  0.63216492 -1.2895782  -1.36664729 -0.30370205]\n",
            " ...\n",
            " [-0.53244519 -1.51644493 -1.63435703 -1.07351528 -1.31713464 -0.30370205]\n",
            " [-0.53244519 -1.15893659 -1.25660337 -0.20926357  0.41580793 -0.30370205]\n",
            " [-0.53244519  0.6286051   0.25441126  0.38490948 -0.87152084 -0.30370205]]\n"
          ]
        }
      ]
    },
    {
      "cell_type": "code",
      "execution_count": null,
      "metadata": {
        "id": "ddrzGRwPzXSV",
        "colab": {
          "base_uri": "https://localhost:8080/"
        },
        "outputId": "3878b74b-0379-4021-82db-456efc0df974"
      },
      "outputs": [
        {
          "output_type": "execute_result",
          "data": {
            "text/plain": [
              "LogisticRegression()"
            ]
          },
          "metadata": {},
          "execution_count": 83
        }
      ],
      "source": [
        "logres = LogisticRegression()\n",
        "logres.fit(x_train, y_train)"
      ]
    },
    {
      "cell_type": "code",
      "execution_count": null,
      "metadata": {
        "id": "B7VTT0VKzYPE",
        "colab": {
          "base_uri": "https://localhost:8080/"
        },
        "outputId": "b63b04ce-6bb9-4327-aeb9-5342b02188a8"
      },
      "outputs": [
        {
          "output_type": "execute_result",
          "data": {
            "text/plain": [
              "LogisticRegression()"
            ]
          },
          "metadata": {},
          "execution_count": 84
        }
      ],
      "source": [
        "LogisticRegression(C=1.0,\n",
        "                   class_weight=None,\n",
        "                   dual=False,\n",
        "                   fit_intercept=True,\n",
        "                   intercept_scaling=1,\n",
        "                   l1_ratio=None,\n",
        "                   max_iter=100,\n",
        "                   multi_class='auto',\n",
        "                   n_jobs=None,\n",
        "                   penalty='l2',\n",
        "                   random_state=None,\n",
        "                   solver='lbfgs',\n",
        "                   tol=0.0001,\n",
        "                   verbose=0,\n",
        "                   warm_start=False)"
      ]
    },
    {
      "cell_type": "code",
      "execution_count": null,
      "metadata": {
        "id": "N0wS7H9EzdsH",
        "colab": {
          "base_uri": "https://localhost:8080/"
        },
        "outputId": "4212df9e-de0d-4d30-c7f7-92181bbf7c2f"
      },
      "outputs": [
        {
          "output_type": "stream",
          "name": "stdout",
          "text": [
            "Test score: 0.8311768876285005\n",
            "Train score: 0.8385767458348103\n"
          ]
        }
      ],
      "source": [
        "lr_pred = logres.predict(x_test)\n",
        "print(\"Test score:\", logres.score(x_test, y_test))\n",
        "print(\"Train score:\", logres.score(x_train, y_train))"
      ]
    },
    {
      "cell_type": "code",
      "execution_count": null,
      "metadata": {
        "id": "wC3DGpn-zgrW",
        "colab": {
          "base_uri": "https://localhost:8080/"
        },
        "outputId": "bc4acc6a-16cb-41d5-b927-4045539b1450"
      },
      "outputs": [
        {
          "output_type": "stream",
          "name": "stdout",
          "text": [
            "Accuracy Score:  0.8311768876285005\n",
            "[[8255  460]\n",
            " [1445 1124]]\n",
            "              precision    recall  f1-score   support\n",
            "\n",
            "           0       0.85      0.95      0.90      8715\n",
            "           1       0.71      0.44      0.54      2569\n",
            "\n",
            "    accuracy                           0.83     11284\n",
            "   macro avg       0.78      0.69      0.72     11284\n",
            "weighted avg       0.82      0.83      0.82     11284\n",
            "\n"
          ]
        }
      ],
      "source": [
        "lracc = accuracy_score(y_test, lr_pred)\n",
        "lrcm = confusion_matrix(y_test, lr_pred)\n",
        "lrclass = classification_report(y_test, lr_pred)\n",
        "\n",
        "print(\"Accuracy Score: \", lracc)\n",
        "print(lrcm)\n",
        "print(lrclass)"
      ]
    },
    {
      "cell_type": "code",
      "source": [
        "lrf1 = round(f1_score(y_test, lr_pred, average='weighted'), 3)\n",
        "lr_precision = round(precision_score(y_test, lr_pred), 3)\n",
        "lr_recall = round(recall_score(y_test, lr_pred), 3)\n",
        "\n",
        "print(\"F1 Score: \", lrf1)\n",
        "print(\"Precision: \", lr_precision)\n",
        "print(\"Recall: \", lr_recall)"
      ],
      "metadata": {
        "id": "yWXtip-B3Wo2",
        "colab": {
          "base_uri": "https://localhost:8080/"
        },
        "outputId": "aa4e0273-f060-4cd3-d54d-1c40d6700d5d"
      },
      "execution_count": null,
      "outputs": [
        {
          "output_type": "stream",
          "name": "stdout",
          "text": [
            "F1 Score:  0.816\n",
            "Precision:  0.71\n",
            "Recall:  0.438\n"
          ]
        }
      ]
    },
    {
      "cell_type": "code",
      "source": [
        "logres.predict_proba(x_test)"
      ],
      "metadata": {
        "id": "FohiPSE-eAVo",
        "colab": {
          "base_uri": "https://localhost:8080/"
        },
        "outputId": "1856b051-cb01-492b-dc31-7d728b0ec68a"
      },
      "execution_count": null,
      "outputs": [
        {
          "output_type": "execute_result",
          "data": {
            "text/plain": [
              "array([[0.83995293, 0.16004707],\n",
              "       [0.97500604, 0.02499396],\n",
              "       [0.65974347, 0.34025653],\n",
              "       ...,\n",
              "       [0.92138496, 0.07861504],\n",
              "       [0.15886714, 0.84113286],\n",
              "       [0.74753085, 0.25246915]])"
            ]
          },
          "metadata": {},
          "execution_count": 88
        }
      ]
    },
    {
      "cell_type": "code",
      "source": [
        "logres.predict(x_test)"
      ],
      "metadata": {
        "colab": {
          "base_uri": "https://localhost:8080/"
        },
        "id": "Dj99f3lLh16W",
        "outputId": "a839710f-2b4e-4e66-f7e5-ca24c58621c3"
      },
      "execution_count": null,
      "outputs": [
        {
          "output_type": "execute_result",
          "data": {
            "text/plain": [
              "array([0, 0, 0, ..., 0, 1, 0])"
            ]
          },
          "metadata": {},
          "execution_count": 89
        }
      ]
    },
    {
      "cell_type": "code",
      "source": [
        "y_pred_proba = logres.predict_proba(x_test)[::,1]\n",
        "fpr, tpr, _ = metrics.roc_curve(y_test,  y_pred_proba)\n",
        "auc = metrics.roc_auc_score(y_test, y_pred_proba)\n",
        "\n",
        "#create ROC curve\n",
        "plt.plot(fpr,tpr,label=\"AUC=\"+str(auc))\n",
        "plt.legend(loc=4)\n",
        "plt.show()"
      ],
      "metadata": {
        "colab": {
          "base_uri": "https://localhost:8080/",
          "height": 265
        },
        "id": "1w-skaliiYOg",
        "outputId": "d6d81bf5-cb68-46f8-c668-5c02c87c43a7"
      },
      "execution_count": null,
      "outputs": [
        {
          "output_type": "display_data",
          "data": {
            "text/plain": [
              "<Figure size 432x288 with 1 Axes>"
            ],
            "image/png": "[encoded data removed]"
          },
          "metadata": {
            "needs_background": "light"
          }
        }
      ]
    },
    {
      "cell_type": "code",
      "execution_count": null,
      "metadata": {
        "id": "QVZaxEPGsDAV",
        "colab": {
          "base_uri": "https://localhost:8080/",
          "height": 265
        },
        "outputId": "da2f6491-f29e-4995-b950-382b816a2a7b"
      },
      "outputs": [
        {
          "output_type": "display_data",
          "data": {
            "text/plain": [
              "<Figure size 432x288 with 2 Axes>"
            ],
            "image/png": "[encoded data removed]"
          },
          "metadata": {
            "needs_background": "light"
          }
        }
      ],
      "source": [
        "sns.heatmap(lrcm, annot=True, fmt=\"d\", linewidths=.5, cmap = 'Reds')\n",
        "plt.show()"
      ]
    },
    {
      "cell_type": "code",
      "execution_count": null,
      "metadata": {
        "id": "lTf6eZRvg6w2"
      },
      "outputs": [],
      "source": [
        "# Saving Model with Pickle\n",
        "pickle.dump(logres, open('logres_besok.pkl', 'wb'))"
      ]
    },
    {
      "cell_type": "markdown",
      "metadata": {
        "id": "fw-Yb8kzljv2"
      },
      "source": [
        "# Modelling: Support Vector Machine (SVM)"
      ]
    },
    {
      "cell_type": "markdown",
      "metadata": {
        "id": "nDsgeHGcpMt0"
      },
      "source": [
        "## Prediksi Apakah besok hujan?"
      ]
    },
    {
      "cell_type": "code",
      "execution_count": null,
      "metadata": {
        "id": "lmCS3-1ppOzY"
      },
      "outputs": [],
      "source": [
        "scaler = StandardScaler()\n",
        "datax = final_df.drop(['RainTomorrow'],axis=1)"
      ]
    },
    {
      "cell_type": "code",
      "execution_count": null,
      "metadata": {
        "id": "_Rk4mIpIpRw3"
      },
      "outputs": [],
      "source": [
        "X = scaler.fit_transform(datax)\n",
        "y = final_df['RainTomorrow']"
      ]
    },
    {
      "cell_type": "code",
      "source": [
        "x_train, x_test, y_train, y_test = train_test_split(X, y, test_size=0.2)"
      ],
      "metadata": {
        "id": "3DJHXRuyVTiE"
      },
      "execution_count": null,
      "outputs": []
    },
    {
      "cell_type": "code",
      "execution_count": null,
      "metadata": {
        "id": "7QPKpGBgpUrL",
        "colab": {
          "base_uri": "https://localhost:8080/"
        },
        "outputId": "b02b290d-0875-4e55-930d-e8c2d867d94f"
      },
      "outputs": [
        {
          "output_type": "execute_result",
          "data": {
            "text/plain": [
              "SVC()"
            ]
          },
          "metadata": {},
          "execution_count": 35
        }
      ],
      "source": [
        "svm_model = svm.SVC()\n",
        "svm_model.fit(x_train, y_train)"
      ]
    },
    {
      "cell_type": "code",
      "execution_count": null,
      "metadata": {
        "id": "C4GTLKMIpYG8",
        "colab": {
          "base_uri": "https://localhost:8080/"
        },
        "outputId": "98cff88e-6607-4ccf-db8f-0865f867457e"
      },
      "outputs": [
        {
          "output_type": "execute_result",
          "data": {
            "text/plain": [
              "SVC()"
            ]
          },
          "metadata": {},
          "execution_count": 37
        }
      ],
      "source": [
        "svm.SVC(C=1.0,\n",
        "    break_ties=False,\n",
        "    cache_size=200,\n",
        "    class_weight=None,\n",
        "    coef0=0.0,\n",
        "    decision_function_shape='ovr',\n",
        "    degree=3,\n",
        "    gamma='scale',\n",
        "    kernel='rbf',\n",
        "    max_iter=-1,\n",
        "    probability=False,\n",
        "    random_state=None,\n",
        "    shrinking=True,\n",
        "    tol=0.001,\n",
        "    verbose=False)"
      ]
    },
    {
      "cell_type": "code",
      "execution_count": null,
      "metadata": {
        "id": "q_16OS1JpaCQ",
        "colab": {
          "base_uri": "https://localhost:8080/"
        },
        "outputId": "9ee7a32e-4dfd-46f7-aaab-4105b9da455e"
      },
      "outputs": [
        {
          "output_type": "stream",
          "name": "stdout",
          "text": [
            "Test score: 0.8430521091811415\n",
            "Train score: 0.8388647642679901\n"
          ]
        }
      ],
      "source": [
        "pred_svm = svm_model.predict(x_test)\n",
        "print(\"Test score:\", svm_model.score(x_test, y_test))\n",
        "print(\"Train score:\", svm_model.score(x_train, y_train))"
      ]
    },
    {
      "cell_type": "code",
      "execution_count": null,
      "metadata": {
        "id": "jsOrk8o_pb6U",
        "colab": {
          "base_uri": "https://localhost:8080/"
        },
        "outputId": "be5787c5-5f53-4f1c-fc51-c177cf2ea41c"
      },
      "outputs": [
        {
          "output_type": "stream",
          "name": "stdout",
          "text": [
            "Accuracy Score:  0.8430521091811415\n",
            "[[8597  287]\n",
            " [1484  916]]\n",
            "              precision    recall  f1-score   support\n",
            "\n",
            "           0       0.85      0.97      0.91      8884\n",
            "           1       0.76      0.38      0.51      2400\n",
            "\n",
            "    accuracy                           0.84     11284\n",
            "   macro avg       0.81      0.67      0.71     11284\n",
            "weighted avg       0.83      0.84      0.82     11284\n",
            "\n"
          ]
        }
      ],
      "source": [
        "svmacc = accuracy_score(y_test, pred_svm)\n",
        "svmcm = confusion_matrix(y_test, pred_svm)\n",
        "svmclass = classification_report(y_test, pred_svm)\n",
        "\n",
        "print(\"Accuracy Score: \", svmacc)\n",
        "print(svmcm)\n",
        "print(svmclass)"
      ]
    },
    {
      "cell_type": "code",
      "source": [
        "svmf1 = round(f1_score(y_test, pred_svm, average='weighted'), 3)\n",
        "svm_precision = round(precision_score(y_test, pred_svm), 3)\n",
        "svm_recall = round(recall_score(y_test, pred_svm), 3)\n",
        "\n",
        "print(\"F1 Score: \", svmf1)\n",
        "print(\"Precision: \", svm_precision)\n",
        "print(\"Recall: \", svm_recall)"
      ],
      "metadata": {
        "id": "E2pJB3CH397f",
        "colab": {
          "base_uri": "https://localhost:8080/"
        },
        "outputId": "057cc5de-c14a-4273-8dfc-b89a6f776066"
      },
      "execution_count": null,
      "outputs": [
        {
          "output_type": "stream",
          "name": "stdout",
          "text": [
            "F1 Score:  0.822\n",
            "Precision:  0.761\n",
            "Recall:  0.382\n"
          ]
        }
      ]
    },
    {
      "cell_type": "code",
      "execution_count": null,
      "metadata": {
        "id": "7vLmCLQpq7Ry",
        "colab": {
          "base_uri": "https://localhost:8080/",
          "height": 265
        },
        "outputId": "e2cfe9b5-e35a-4e31-deb1-d00abe4f1074"
      },
      "outputs": [
        {
          "output_type": "display_data",
          "data": {
            "text/plain": [
              "<Figure size 432x288 with 2 Axes>"
            ],
            "image/png": "[encoded data removed]"
          },
          "metadata": {
            "needs_background": "light"
          }
        }
      ],
      "source": [
        "sns.heatmap(svmcm, annot=True, fmt=\"d\", linewidths=.5, cmap = 'Reds')\n",
        "plt.show()"
      ]
    },
    {
      "cell_type": "code",
      "execution_count": null,
      "metadata": {
        "id": "sjcn0J67hM6R"
      },
      "outputs": [],
      "source": [
        "# Saving Model with Pickle\n",
        "pickle.dump(svm_model, open('svm_besok.pkl', 'wb'))"
      ]
    },
    {
      "cell_type": "markdown",
      "source": [
        "# Modelling: K-Nearest Neighbor Classifier (KNN)"
      ],
      "metadata": {
        "id": "jKGDK1lOrq8d"
      }
    },
    {
      "cell_type": "markdown",
      "source": [
        "## Prediksi Apakah besok hujan?"
      ],
      "metadata": {
        "id": "cO-IrXJfsAY-"
      }
    },
    {
      "cell_type": "code",
      "source": [
        "scaler = StandardScaler()\n",
        "datax = df.drop(['RainTomorrow'],axis=1)"
      ],
      "metadata": {
        "id": "q5XZR4wssCQU"
      },
      "execution_count": null,
      "outputs": []
    },
    {
      "cell_type": "code",
      "source": [
        "X = scaler.fit_transform(datax)\n",
        "y = df['RainTomorrow']\n",
        "\n",
        "x_train, x_test, y_train, y_test = train_test_split(X, y, test_size=0.2)"
      ],
      "metadata": {
        "id": "um8QVViGsGqf"
      },
      "execution_count": null,
      "outputs": []
    },
    {
      "cell_type": "code",
      "source": [
        "knn_model = KNeighborsClassifier()\n",
        "knn_model.fit(x_train, y_train)"
      ],
      "metadata": {
        "id": "QxJPPthgsMjd",
        "colab": {
          "base_uri": "https://localhost:8080/"
        },
        "outputId": "5afc2d8c-25b2-4b90-9ef7-8c46017a6d3b"
      },
      "execution_count": null,
      "outputs": [
        {
          "output_type": "execute_result",
          "data": {
            "text/plain": [
              "KNeighborsClassifier()"
            ]
          },
          "metadata": {},
          "execution_count": 47
        }
      ]
    },
    {
      "cell_type": "code",
      "source": [
        "pred_knn = knn_model.predict(x_test)\n",
        "print(\"Test score:\", knn_model.score(x_test, y_test))\n",
        "print(\"Train score:\", knn_model.score(x_train, y_train))"
      ],
      "metadata": {
        "id": "C0WZi9YEwHXF",
        "colab": {
          "base_uri": "https://localhost:8080/"
        },
        "outputId": "123261fb-eb39-4b67-a4b8-29f07e32f956"
      },
      "execution_count": null,
      "outputs": [
        {
          "output_type": "stream",
          "name": "stdout",
          "text": [
            "Test score: 0.8444700460829493\n",
            "Train score: 0.8885147110953563\n"
          ]
        }
      ]
    },
    {
      "cell_type": "code",
      "source": [
        "knnacc = accuracy_score(y_test, pred_knn)\n",
        "knncm = confusion_matrix(y_test, pred_knn)\n",
        "knnclass = classification_report(y_test, pred_knn)\n",
        "\n",
        "print(\"Accuracy Score: \", knnacc)\n",
        "print(knncm)\n",
        "print(knnclass)"
      ],
      "metadata": {
        "id": "AM_bceG-wSAv",
        "colab": {
          "base_uri": "https://localhost:8080/"
        },
        "outputId": "87309993-52a8-4c13-ac0d-7cfe09fb7b6c"
      },
      "execution_count": null,
      "outputs": [
        {
          "output_type": "stream",
          "name": "stdout",
          "text": [
            "Accuracy Score:  0.8444700460829493\n",
            "[[8208  600]\n",
            " [1155 1321]]\n",
            "              precision    recall  f1-score   support\n",
            "\n",
            "           0       0.88      0.93      0.90      8808\n",
            "           1       0.69      0.53      0.60      2476\n",
            "\n",
            "    accuracy                           0.84     11284\n",
            "   macro avg       0.78      0.73      0.75     11284\n",
            "weighted avg       0.84      0.84      0.84     11284\n",
            "\n"
          ]
        }
      ]
    },
    {
      "cell_type": "code",
      "source": [
        "knnf1 = round(f1_score(y_test, pred_knn, average='weighted'), 3)\n",
        "knn_precision = round(precision_score(y_test, pred_knn), 3)\n",
        "knn_recall = round(recall_score(y_test, pred_knn), 3)\n",
        "\n",
        "print(\"F1 Score: \", knnf1)\n",
        "print(\"Precision: \", knn_precision)\n",
        "print(\"Recall: \", knn_recall)"
      ],
      "metadata": {
        "id": "8C6zEvTx4QJK",
        "colab": {
          "base_uri": "https://localhost:8080/"
        },
        "outputId": "e663a1d5-6acd-4a8a-9c51-f22b36b85b10"
      },
      "execution_count": null,
      "outputs": [
        {
          "output_type": "stream",
          "name": "stdout",
          "text": [
            "F1 Score:  0.837\n",
            "Precision:  0.688\n",
            "Recall:  0.534\n"
          ]
        }
      ]
    },
    {
      "cell_type": "markdown",
      "source": [
        "**Laporan Klasifikasi:**\n",
        "\n",
        "Laporan klasifikasi menampilkan skor Precision , Recall , F1 dan Support  untuk model tersebut.\n",
        "\n",
        "**Skor presisi** berarti tingkat ketepatan prediksi yang dibuat oleh model. Presisi untuk **Tidak Hujan adalah 0,87** dan untuk **Hujan adalah 0,78** .\n",
        "\n",
        "Ingat adalah jumlah hingga model dapat memprediksi hasilnya. **Recall** untuk **Tidak Hujan adalah 0,96** dan untuk **Terjadi Hujan adalah 0,50** .\n",
        "\n",
        "**Skor F1** dan Dukungan adalah jumlah data yang diuji untuk prediksi. Dalam kumpulan data Prediksi Cuaca, data yang diuji untuk **Tidak Hujan adalah 8753** dan untuk **Hujan adalah 2531** ."
      ],
      "metadata": {
        "id": "iOKDTrZqwnLi"
      }
    },
    {
      "cell_type": "markdown",
      "source": [
        "**Confusion matrix:**\n",
        "\n",
        "Confusion matrix adalah tabel yang menggambarkan kinerja model prediksi. Confusion matrix berisi nilai aktual dan nilai prediksi. kita dapat menggunakan nilai-nilai ini untuk menghitung skor akurasi model."
      ],
      "metadata": {
        "id": "byrUxAtHwy7Z"
      }
    },
    {
      "cell_type": "code",
      "source": [
        "sns.heatmap(knncm, annot=True, fmt=\"d\", linewidths=.5, cmap = 'Reds')\n",
        "plt.show()"
      ],
      "metadata": {
        "id": "VdSzp66NwgPT",
        "colab": {
          "base_uri": "https://localhost:8080/"
        },
        "outputId": "f8d2fccb-48bd-4a5f-caa2-3a82578626b7"
      },
      "execution_count": null,
      "outputs": [
        {
          "output_type": "display_data",
          "data": {
            "text/plain": [
              "<Figure size 432x288 with 2 Axes>"
            ],
            "image/png": "[encoded data removed]"
          },
          "metadata": {
            "needs_background": "light"
          }
        }
      ]
    },
    {
      "cell_type": "markdown",
      "source": [
        "**Skor Akurasi:**\n",
        "\n",
        "Skor akurasi adalah persentase akurasi prediksi yang dibuat oleh model. Untuk model kami, **skor akurasinya adalah 0.85** yang cukup akurat, tetapi semakin tinggi skor akurasi semakin efisien model prediksi Anda. Dengan mengikuti langkah-langkah yang dibahas di atas, kami telah memperkirakan kemungkinan besok Hujan/Tidak Hujan menggunakan dataset Prediksi Cuaca."
      ],
      "metadata": {
        "id": "iIKpsiSXw4Hf"
      }
    },
    {
      "cell_type": "code",
      "source": [
        "# Saving Model with Pickle\n",
        "pickle.dump(knn_model, open('knn_besok.pkl', 'wb'))"
      ],
      "metadata": {
        "id": "jQKBCocmw4xt"
      },
      "execution_count": null,
      "outputs": []
    },
    {
      "cell_type": "markdown",
      "source": [
        "# Modelling: Gaussian Naive Bayes"
      ],
      "metadata": {
        "id": "sQbyIqbyxRiR"
      }
    },
    {
      "cell_type": "markdown",
      "source": [
        "## Prediksi Apakah besok hujan?"
      ],
      "metadata": {
        "id": "jsVwdjPuxYXy"
      }
    },
    {
      "cell_type": "code",
      "source": [
        "scaler = StandardScaler()\n",
        "datax = df.drop(['RainTomorrow'],axis=1)"
      ],
      "metadata": {
        "id": "jnXvljkVxbuk"
      },
      "execution_count": null,
      "outputs": []
    },
    {
      "cell_type": "code",
      "source": [
        "X = scaler.fit_transform(datax)\n",
        "y = df['RainTomorrow']\n",
        "\n",
        "x_train, x_test, y_train, y_test = train_test_split(X, y, test_size=0.2)"
      ],
      "metadata": {
        "id": "d-XdB8jjxeVR"
      },
      "execution_count": null,
      "outputs": []
    },
    {
      "cell_type": "code",
      "source": [
        "gaussian = GaussianNB()\n",
        "gaussian.fit(x_train, y_train)"
      ],
      "metadata": {
        "id": "QUPBAMmoxjMB",
        "colab": {
          "base_uri": "https://localhost:8080/"
        },
        "outputId": "065beda2-389e-4b43-e58c-f9b73d35d82c"
      },
      "execution_count": null,
      "outputs": [
        {
          "output_type": "execute_result",
          "data": {
            "text/plain": [
              "GaussianNB()"
            ]
          },
          "metadata": {},
          "execution_count": 55
        }
      ]
    },
    {
      "cell_type": "code",
      "source": [
        "gauspred = gaussian.predict(x_test)\n",
        "print(\"Test score:\", gaussian.score(x_test, y_test))\n",
        "print(\"Train score:\", gaussian.score(x_train, y_train))"
      ],
      "metadata": {
        "id": "ifdynhajxt_H",
        "colab": {
          "base_uri": "https://localhost:8080/"
        },
        "outputId": "fe629ad4-98c2-45b6-ca87-23bed823e2e0"
      },
      "execution_count": null,
      "outputs": [
        {
          "output_type": "stream",
          "name": "stdout",
          "text": [
            "Test score: 0.7960829493087558\n",
            "Train score: 0.8014888337468983\n"
          ]
        }
      ]
    },
    {
      "cell_type": "code",
      "source": [
        "gausacc = accuracy_score(y_test, gauspred)\n",
        "gauscm = confusion_matrix(y_test, gauspred)\n",
        "gausclass = classification_report(y_test, gauspred)\n",
        "\n",
        "print(\"Accuracy Score: \", gausacc)\n",
        "print(gauscm)\n",
        "print(gausclass)"
      ],
      "metadata": {
        "id": "kCmqA7ccx3ac",
        "colab": {
          "base_uri": "https://localhost:8080/"
        },
        "outputId": "93f43fa8-68b5-4103-df31-eb3c13344fee"
      },
      "execution_count": null,
      "outputs": [
        {
          "output_type": "stream",
          "name": "stdout",
          "text": [
            "Accuracy Score:  0.7960829493087558\n",
            "[[7258 1500]\n",
            " [ 801 1725]]\n",
            "              precision    recall  f1-score   support\n",
            "\n",
            "           0       0.90      0.83      0.86      8758\n",
            "           1       0.53      0.68      0.60      2526\n",
            "\n",
            "    accuracy                           0.80     11284\n",
            "   macro avg       0.72      0.76      0.73     11284\n",
            "weighted avg       0.82      0.80      0.80     11284\n",
            "\n"
          ]
        }
      ]
    },
    {
      "cell_type": "code",
      "source": [
        "gausf1 = round(f1_score(y_test, gauspred, average='weighted'), 3)\n",
        "gaus_precision = round(precision_score(y_test, gauspred), 3)\n",
        "gaus_recall = round(recall_score(y_test, gauspred), 3)\n",
        "\n",
        "print(\"F1 Score: \", gausf1)\n",
        "print(\"Precision: \", gaus_precision)\n",
        "print(\"Recall: \", gaus_recall)"
      ],
      "metadata": {
        "id": "AsKF890Y4eHq",
        "colab": {
          "base_uri": "https://localhost:8080/"
        },
        "outputId": "857dc3ed-dc76-4842-96d9-69825e0545d8"
      },
      "execution_count": null,
      "outputs": [
        {
          "output_type": "stream",
          "name": "stdout",
          "text": [
            "F1 Score:  0.804\n",
            "Precision:  0.535\n",
            "Recall:  0.683\n"
          ]
        }
      ]
    },
    {
      "cell_type": "markdown",
      "source": [
        "**Laporan Klasifikasi:**\n",
        "\n",
        "Laporan klasifikasi menampilkan skor Precision , Recall , F1 dan Support  untuk model tersebut.\n",
        "\n",
        "**Skor presisi** berarti tingkat ketepatan prediksi yang dibuat oleh model. Presisi untuk **Tidak Hujan adalah 0,87** dan untuk **Hujan adalah 0,78** .\n",
        "\n",
        "Ingat adalah jumlah hingga model dapat memprediksi hasilnya. **Recall** untuk **Tidak Hujan adalah 0,96** dan untuk **Terjadi Hujan adalah 0,50** .\n",
        "\n",
        "**Skor F1** dan Dukungan adalah jumlah data yang diuji untuk prediksi. Dalam kumpulan data Prediksi Cuaca, data yang diuji untuk **Tidak Hujan adalah 8753** dan untuk **Hujan adalah 2531** ."
      ],
      "metadata": {
        "id": "40fA60IPyKGd"
      }
    },
    {
      "cell_type": "markdown",
      "source": [
        "**Confusion matrix:**\n",
        "\n",
        "Confusion matrix adalah tabel yang menggambarkan kinerja model prediksi. Confusion matrix berisi nilai aktual dan nilai prediksi. kita dapat menggunakan nilai-nilai ini untuk menghitung skor akurasi model."
      ],
      "metadata": {
        "id": "eVYUMPDIyObh"
      }
    },
    {
      "cell_type": "code",
      "source": [
        "sns.heatmap(gauscm, annot=True, fmt=\"d\", linewidths=.5, cmap = 'Reds')\n",
        "plt.show()"
      ],
      "metadata": {
        "id": "FZUWyE7gyStE",
        "colab": {
          "base_uri": "https://localhost:8080/"
        },
        "outputId": "f6436c0f-ad02-4bca-cf9d-8a1ad3ec6a8d"
      },
      "execution_count": null,
      "outputs": [
        {
          "output_type": "display_data",
          "data": {
            "text/plain": [
              "<Figure size 432x288 with 2 Axes>"
            ],
            "image/png": "[encoded data removed]"
          },
          "metadata": {
            "needs_background": "light"
          }
        }
      ]
    },
    {
      "cell_type": "markdown",
      "source": [
        "**Skor Akurasi:**\n",
        "\n",
        "Skor akurasi adalah persentase akurasi prediksi yang dibuat oleh model. Untuk model kami, **skor akurasinya adalah 0.85** yang cukup akurat, tetapi semakin tinggi skor akurasi semakin efisien model prediksi Anda. Dengan mengikuti langkah-langkah yang dibahas di atas, kami telah memperkirakan kemungkinan besok Hujan/Tidak Hujan menggunakan dataset Prediksi Cuaca."
      ],
      "metadata": {
        "id": "4z9xsdS2yVQi"
      }
    },
    {
      "cell_type": "code",
      "source": [
        "# Saving Model with Pickle\n",
        "pickle.dump(gaussian, open('gaus_besok.pkl', 'wb'))"
      ],
      "metadata": {
        "id": "E8pweaolyhaX"
      },
      "execution_count": null,
      "outputs": []
    },
    {
      "cell_type": "markdown",
      "source": [
        "# Modelling: Random Forest Classifier"
      ],
      "metadata": {
        "id": "Gn_O3azkyvvq"
      }
    },
    {
      "cell_type": "markdown",
      "source": [
        "## Prediksi Apakah besok hujan?"
      ],
      "metadata": {
        "id": "6g8q_9sbyzEs"
      }
    },
    {
      "cell_type": "code",
      "source": [
        "scaler = StandardScaler()\n",
        "datax = df.drop(['RainTomorrow'],axis=1)"
      ],
      "metadata": {
        "id": "z1Y13g0fy33A"
      },
      "execution_count": null,
      "outputs": []
    },
    {
      "cell_type": "code",
      "source": [
        "X = scaler.fit_transform(datax)\n",
        "y = df['RainTomorrow']\n",
        "\n",
        "x_train, x_test, y_train, y_test = train_test_split(X, y, test_size=0.2)"
      ],
      "metadata": {
        "id": "jD_T19wdy6fT"
      },
      "execution_count": null,
      "outputs": []
    },
    {
      "cell_type": "code",
      "source": [
        "rf_model = RandomForestClassifier()\n",
        "rf_model.fit(x_train, y_train)"
      ],
      "metadata": {
        "id": "Yiq6wWg-y9e9",
        "colab": {
          "base_uri": "https://localhost:8080/"
        },
        "outputId": "c7d2e939-8e78-485d-e85a-0787d0bb0b67"
      },
      "execution_count": null,
      "outputs": [
        {
          "output_type": "execute_result",
          "data": {
            "text/plain": [
              "RandomForestClassifier()"
            ]
          },
          "metadata": {},
          "execution_count": 63
        }
      ]
    },
    {
      "cell_type": "code",
      "source": [
        "pred_rf = rf_model.predict(x_test)\n",
        "print(\"Test score:\", rf_model.score(x_test, y_test))\n",
        "print(\"Train score:\", rf_model.score(x_train, y_train))"
      ],
      "metadata": {
        "id": "IelC60dLzGHL",
        "colab": {
          "base_uri": "https://localhost:8080/"
        },
        "outputId": "80567b05-2591-460c-aca9-bb305ffbd832"
      },
      "execution_count": null,
      "outputs": [
        {
          "output_type": "stream",
          "name": "stdout",
          "text": [
            "Test score: 0.8643211627082594\n",
            "Train score: 0.9999778447359092\n"
          ]
        }
      ]
    },
    {
      "cell_type": "code",
      "source": [
        "rfacc = accuracy_score(y_test, pred_rf)\n",
        "rfcm = confusion_matrix(y_test, pred_rf)\n",
        "rfclass = classification_report(y_test, pred_rf)\n",
        "\n",
        "print(\"Accuracy Score: \", rfacc)\n",
        "print(rfcm)\n",
        "print(rfclass)"
      ],
      "metadata": {
        "id": "InyRAcuYzP-P",
        "colab": {
          "base_uri": "https://localhost:8080/"
        },
        "outputId": "1cc953de-85fc-4b2c-9db8-c1385384c20c"
      },
      "execution_count": null,
      "outputs": [
        {
          "output_type": "stream",
          "name": "stdout",
          "text": [
            "Accuracy Score:  0.8643211627082594\n",
            "[[8429  394]\n",
            " [1137 1324]]\n",
            "              precision    recall  f1-score   support\n",
            "\n",
            "           0       0.88      0.96      0.92      8823\n",
            "           1       0.77      0.54      0.63      2461\n",
            "\n",
            "    accuracy                           0.86     11284\n",
            "   macro avg       0.83      0.75      0.78     11284\n",
            "weighted avg       0.86      0.86      0.86     11284\n",
            "\n"
          ]
        }
      ]
    },
    {
      "cell_type": "code",
      "source": [
        "rff1 = round(f1_score(y_test, pred_rf, average='weighted'), 3)\n",
        "rf_precision = round(precision_score(y_test, pred_rf), 3)\n",
        "rf_recall = round(recall_score(y_test, pred_rf), 3)\n",
        "\n",
        "print(\"F1 Score: \", rff1)\n",
        "print(\"Precision: \", rf_precision)\n",
        "print(\"Recall: \", rf_recall)"
      ],
      "metadata": {
        "id": "ajCTFxQD4r7i",
        "colab": {
          "base_uri": "https://localhost:8080/"
        },
        "outputId": "ece1c579-6621-4be9-8bd9-008e9fd26413"
      },
      "execution_count": null,
      "outputs": [
        {
          "output_type": "stream",
          "name": "stdout",
          "text": [
            "F1 Score:  0.855\n",
            "Precision:  0.771\n",
            "Recall:  0.538\n"
          ]
        }
      ]
    },
    {
      "cell_type": "markdown",
      "source": [
        "**Laporan Klasifikasi:**\n",
        "\n",
        "Laporan klasifikasi menampilkan skor Precision , Recall , F1 dan Support  untuk model tersebut.\n",
        "\n",
        "**Skor presisi** berarti tingkat ketepatan prediksi yang dibuat oleh model. Presisi untuk **Tidak Hujan adalah 0,87** dan untuk **Hujan adalah 0,78** .\n",
        "\n",
        "Ingat adalah jumlah hingga model dapat memprediksi hasilnya. **Recall** untuk **Tidak Hujan adalah 0,96** dan untuk **Terjadi Hujan adalah 0,50** .\n",
        "\n",
        "**Skor F1** dan Dukungan adalah jumlah data yang diuji untuk prediksi. Dalam kumpulan data Prediksi Cuaca, data yang diuji untuk **Tidak Hujan adalah 8753** dan untuk **Hujan adalah 2531** ."
      ],
      "metadata": {
        "id": "Si6J4qapzgZH"
      }
    },
    {
      "cell_type": "markdown",
      "source": [
        "**Confusion matrix:**\n",
        "\n",
        "Confusion matrix adalah tabel yang menggambarkan kinerja model prediksi. Confusion matrix berisi nilai aktual dan nilai prediksi. kita dapat menggunakan nilai-nilai ini untuk menghitung skor akurasi model."
      ],
      "metadata": {
        "id": "4nZC-acvzkYO"
      }
    },
    {
      "cell_type": "code",
      "source": [
        "sns.heatmap(rfcm, annot=True, fmt=\"d\", linewidths=.5, cmap = 'Reds')\n",
        "plt.show()"
      ],
      "metadata": {
        "id": "Z6RAVWsszcM6",
        "colab": {
          "base_uri": "https://localhost:8080/"
        },
        "outputId": "1353e2b6-c66f-41e9-bd78-ae6e02d5a922"
      },
      "execution_count": null,
      "outputs": [
        {
          "output_type": "display_data",
          "data": {
            "text/plain": [
              "<Figure size 432x288 with 2 Axes>"
            ],
            "image/png": "[encoded data removed]"
          },
          "metadata": {
            "needs_background": "light"
          }
        }
      ]
    },
    {
      "cell_type": "markdown",
      "source": [
        "**Skor Akurasi:**\n",
        "\n",
        "Skor akurasi adalah persentase akurasi prediksi yang dibuat oleh model. Untuk model kami, **skor akurasinya adalah 0.85** yang cukup akurat, tetapi semakin tinggi skor akurasi semakin efisien model prediksi Anda. Dengan mengikuti langkah-langkah yang dibahas di atas, kami telah memperkirakan kemungkinan besok Hujan/Tidak Hujan menggunakan dataset Prediksi Cuaca."
      ],
      "metadata": {
        "id": "_hpjnPirztX6"
      }
    },
    {
      "cell_type": "code",
      "source": [
        "# Saving Model with Pickle\n",
        "pickle.dump(rf_model, open('rf_besok.pkl', 'wb'))"
      ],
      "metadata": {
        "id": "MN0wIGFjzxc8"
      },
      "execution_count": null,
      "outputs": []
    },
    {
      "cell_type": "markdown",
      "source": [
        "# Modelling: Decision Tree Classifier"
      ],
      "metadata": {
        "id": "iTjuBggV0GYj"
      }
    },
    {
      "cell_type": "markdown",
      "source": [
        "## Prediksi Apakah besok hujan?"
      ],
      "metadata": {
        "id": "GOSv2Egz0OjF"
      }
    },
    {
      "cell_type": "code",
      "source": [
        "scaler = StandardScaler()\n",
        "datax = df.drop(['RainTomorrow'],axis=1)"
      ],
      "metadata": {
        "id": "0H67FERL0SsP"
      },
      "execution_count": null,
      "outputs": []
    },
    {
      "cell_type": "code",
      "source": [
        "X = scaler.fit_transform(datax)\n",
        "y = df['RainTomorrow']\n",
        "\n",
        "x_train, x_test, y_train, y_test = train_test_split(X, y, test_size=0.2)"
      ],
      "metadata": {
        "id": "A3srqcqx0V2Y"
      },
      "execution_count": null,
      "outputs": []
    },
    {
      "cell_type": "code",
      "source": [
        "decision = DecisionTreeClassifier()\n",
        "decision.fit(x_train, y_train)"
      ],
      "metadata": {
        "id": "ONTTM6p10YZe",
        "colab": {
          "base_uri": "https://localhost:8080/"
        },
        "outputId": "da5623f2-ed8e-4ccd-a588-a3bdc3555d05"
      },
      "execution_count": null,
      "outputs": [
        {
          "output_type": "execute_result",
          "data": {
            "text/plain": [
              "DecisionTreeClassifier()"
            ]
          },
          "metadata": {},
          "execution_count": 71
        }
      ]
    },
    {
      "cell_type": "code",
      "source": [
        "dcpred = decision.predict(x_test)\n",
        "print(\"Test score:\", decision.score(x_test, y_test))\n",
        "print(\"Train score:\", decision.score(x_train, y_train))"
      ],
      "metadata": {
        "id": "DbXKUIUk0kP6",
        "colab": {
          "base_uri": "https://localhost:8080/"
        },
        "outputId": "a78ef948-5b1b-4a39-c469-b1548c4b2c91"
      },
      "execution_count": null,
      "outputs": [
        {
          "output_type": "stream",
          "name": "stdout",
          "text": [
            "Test score: 0.7892591279688054\n",
            "Train score: 1.0\n"
          ]
        }
      ]
    },
    {
      "cell_type": "code",
      "source": [
        "dcacc = accuracy_score(y_test, dcpred)\n",
        "dccm = confusion_matrix(y_test, dcpred)\n",
        "dcclass = classification_report(y_test, dcpred)\n",
        "\n",
        "print(\"Accuracy Score: \", dcacc)\n",
        "print(dccm)\n",
        "print(dcclass)"
      ],
      "metadata": {
        "id": "Dq91tHvv0rxN",
        "colab": {
          "base_uri": "https://localhost:8080/"
        },
        "outputId": "27230ccc-12d2-4012-c152-6bcc60ff211f"
      },
      "execution_count": null,
      "outputs": [
        {
          "output_type": "stream",
          "name": "stdout",
          "text": [
            "Accuracy Score:  0.7892591279688054\n",
            "[[7555 1234]\n",
            " [1144 1351]]\n",
            "              precision    recall  f1-score   support\n",
            "\n",
            "           0       0.87      0.86      0.86      8789\n",
            "           1       0.52      0.54      0.53      2495\n",
            "\n",
            "    accuracy                           0.79     11284\n",
            "   macro avg       0.70      0.70      0.70     11284\n",
            "weighted avg       0.79      0.79      0.79     11284\n",
            "\n"
          ]
        }
      ]
    },
    {
      "cell_type": "code",
      "source": [
        "dcf1 = round(f1_score(y_test, dcpred, average='weighted'), 3)\n",
        "dc_precision = round(precision_score(y_test, dcpred), 3)\n",
        "dc_recall = round(recall_score(y_test, dcpred), 3)\n",
        "\n",
        "print(\"F1 Score: \", dcf1)\n",
        "print(\"Precision: \", dc_precision)\n",
        "print(\"Recall: \", dc_recall)"
      ],
      "metadata": {
        "id": "X_YNphHE41N9",
        "colab": {
          "base_uri": "https://localhost:8080/"
        },
        "outputId": "7ef72902-5b00-497d-bd1f-60219b7543ef"
      },
      "execution_count": null,
      "outputs": [
        {
          "output_type": "stream",
          "name": "stdout",
          "text": [
            "F1 Score:  0.791\n",
            "Precision:  0.523\n",
            "Recall:  0.541\n"
          ]
        }
      ]
    },
    {
      "cell_type": "markdown",
      "source": [
        "**Laporan Klasifikasi:**\n",
        "\n",
        "Laporan klasifikasi menampilkan skor Precision , Recall , F1 dan Support  untuk model tersebut.\n",
        "\n",
        "**Skor presisi** berarti tingkat ketepatan prediksi yang dibuat oleh model. Presisi untuk **Tidak Hujan adalah 0,87** dan untuk **Hujan adalah 0,78** .\n",
        "\n",
        "Ingat adalah jumlah hingga model dapat memprediksi hasilnya. **Recall** untuk **Tidak Hujan adalah 0,96** dan untuk **Terjadi Hujan adalah 0,50** .\n",
        "\n",
        "**Skor F1** dan Dukungan adalah jumlah data yang diuji untuk prediksi. Dalam kumpulan data Prediksi Cuaca, data yang diuji untuk **Tidak Hujan adalah 8753** dan untuk **Hujan adalah 2531** ."
      ],
      "metadata": {
        "id": "9gYrIusG05KN"
      }
    },
    {
      "cell_type": "markdown",
      "source": [
        "**Confusion matrix:**\n",
        "\n",
        "Confusion matrix adalah tabel yang menggambarkan kinerja model prediksi. Confusion matrix berisi nilai aktual dan nilai prediksi. kita dapat menggunakan nilai-nilai ini untuk menghitung skor akurasi model."
      ],
      "metadata": {
        "id": "9wEd_8Ir08v5"
      }
    },
    {
      "cell_type": "code",
      "source": [
        "sns.heatmap(dccm, annot=True, fmt=\"d\", linewidths=.5, cmap = 'Reds')\n",
        "plt.show()"
      ],
      "metadata": {
        "id": "JWk_6IVC1Akc",
        "colab": {
          "base_uri": "https://localhost:8080/"
        },
        "outputId": "0b344a6f-d229-4438-f471-21328e91f5e4"
      },
      "execution_count": null,
      "outputs": [
        {
          "output_type": "display_data",
          "data": {
            "text/plain": [
              "<Figure size 432x288 with 2 Axes>"
            ],
            "image/png": "[encoded data removed]"
          },
          "metadata": {
            "needs_background": "light"
          }
        }
      ]
    },
    {
      "cell_type": "markdown",
      "source": [
        "**Skor Akurasi:**\n",
        "\n",
        "Skor akurasi adalah persentase akurasi prediksi yang dibuat oleh model. Untuk model kami, **skor akurasinya adalah 0.85** yang cukup akurat, tetapi semakin tinggi skor akurasi semakin efisien model prediksi Anda. Dengan mengikuti langkah-langkah yang dibahas di atas, kami telah memperkirakan kemungkinan besok Hujan/Tidak Hujan menggunakan dataset Prediksi Cuaca."
      ],
      "metadata": {
        "id": "zwWaro8M1GZy"
      }
    },
    {
      "cell_type": "code",
      "source": [
        "# Saving Model with Pickle\n",
        "pickle.dump(decision, open('dc_besok.pkl', 'wb'))"
      ],
      "metadata": {
        "id": "hgXvOLwh1Muk"
      },
      "execution_count": null,
      "outputs": []
    },
    {
      "cell_type": "markdown",
      "source": [
        "# Final Result"
      ],
      "metadata": {
        "id": "m1cqVHfV1Voi"
      }
    },
    {
      "cell_type": "code",
      "source": [
        "finalresult = pd.DataFrame({\n",
        "    'Model': ['Logistic Regression', 'Support Vector Machine', 'K - Nearest Neighbors', 'Gaussian Naive Bayes', 'Random Forest', 'Decision Tree'],\n",
        "    'Score': [lracc, svmacc, knnacc, gausacc, rfacc, dcacc], \n",
        "    'F1Score': [lrf1, svmf1, knnf1, gausf1, rff1, dcf1], \n",
        "    'Precision': [lr_precision, svm_precision, knn_precision, gaus_precision, rf_precision, dc_precision], \n",
        "    'Recall': [lr_recall, svm_recall, knn_recall, gaus_recall, rf_recall, dc_recall]})\n",
        "finalresult.sort_values(by='Score', ascending=False)"
      ],
      "metadata": {
        "id": "VMSdEHl31YO4",
        "colab": {
          "base_uri": "https://localhost:8080/"
        },
        "outputId": "52700857-c68c-4543-a0fc-d53589a37ca1"
      },
      "execution_count": null,
      "outputs": [
        {
          "output_type": "execute_result",
          "data": {
            "text/plain": [
              "                    Model     Score  F1Score  Precision  Recall\n",
              "4           Random Forest  0.864321    0.855      0.771   0.538\n",
              "1  Support Vector Machine  0.861131    0.851      0.781   0.525\n",
              "0     Logistic Regression  0.853598    0.845      0.729   0.537\n",
              "2   K - Nearest Neighbors  0.844470    0.837      0.688   0.534\n",
              "3    Gaussian Naive Bayes  0.796083    0.804      0.535   0.683\n",
              "5           Decision Tree  0.789259    0.791      0.523   0.541"
            ],
            "text/html": [
              "\n",
              "  <div id=\"df-edb54a08-0e29-47ee-bd1c-fdb97027156d\">\n",
              "    <div class=\"colab-df-container\">\n",
              "      <div>\n",
              "<style scoped>\n",
              "    .dataframe tbody tr th:only-of-type {\n",
              "        vertical-align: middle;\n",
              "    }\n",
              "\n",
              "    .dataframe tbody tr th {\n",
              "        vertical-align: top;\n",
              "    }\n",
              "\n",
              "    .dataframe thead th {\n",
              "        text-align: right;\n",
              "    }\n",
              "</style>\n",
              "<table border=\"1\" class=\"dataframe\">\n",
              "  <thead>\n",
              "    <tr style=\"text-align: right;\">\n",
              "      <th></th>\n",
              "      <th>Model</th>\n",
              "      <th>Score</th>\n",
              "      <th>F1Score</th>\n",
              "      <th>Precision</th>\n",
              "      <th>Recall</th>\n",
              "    </tr>\n",
              "  </thead>\n",
              "  <tbody>\n",
              "    <tr>\n",
              "      <th>4</th>\n",
              "      <td>Random Forest</td>\n",
              "      <td>0.864321</td>\n",
              "      <td>0.855</td>\n",
              "      <td>0.771</td>\n",
              "      <td>0.538</td>\n",
              "    </tr>\n",
              "    <tr>\n",
              "      <th>1</th>\n",
              "      <td>Support Vector Machine</td>\n",
              "      <td>0.861131</td>\n",
              "      <td>0.851</td>\n",
              "      <td>0.781</td>\n",
              "      <td>0.525</td>\n",
              "    </tr>\n",
              "    <tr>\n",
              "      <th>0</th>\n",
              "      <td>Logistic Regression</td>\n",
              "      <td>0.853598</td>\n",
              "      <td>0.845</td>\n",
              "      <td>0.729</td>\n",
              "      <td>0.537</td>\n",
              "    </tr>\n",
              "    <tr>\n",
              "      <th>2</th>\n",
              "      <td>K - Nearest Neighbors</td>\n",
              "      <td>0.844470</td>\n",
              "      <td>0.837</td>\n",
              "      <td>0.688</td>\n",
              "      <td>0.534</td>\n",
              "    </tr>\n",
              "    <tr>\n",
              "      <th>3</th>\n",
              "      <td>Gaussian Naive Bayes</td>\n",
              "      <td>0.796083</td>\n",
              "      <td>0.804</td>\n",
              "      <td>0.535</td>\n",
              "      <td>0.683</td>\n",
              "    </tr>\n",
              "    <tr>\n",
              "      <th>5</th>\n",
              "      <td>Decision Tree</td>\n",
              "      <td>0.789259</td>\n",
              "      <td>0.791</td>\n",
              "      <td>0.523</td>\n",
              "      <td>0.541</td>\n",
              "    </tr>\n",
              "  </tbody>\n",
              "</table>\n",
              "</div>\n",
              "      <button class=\"colab-df-convert\" onclick=\"convertToInteractive('df-edb54a08-0e29-47ee-bd1c-fdb97027156d')\"\n",
              "              title=\"Convert this dataframe to an interactive table.\"\n",
              "              style=\"display:none;\">\n",
              "        \n",
              "  <svg xmlns=\"http://www.w3.org/2000/svg\" height=\"24px\"viewBox=\"0 0 24 24\"\n",
              "       width=\"24px\">\n",
              "    <path d=\"M0 0h24v24H0V0z\" fill=\"none\"/>\n",
              "    <path d=\"M18.56 5.44l.94 2.06.94-2.06 2.06-.94-2.06-.94-.94-2.06-.94 2.06-2.06.94zm-11 1L8.5 8.5l.94-2.06 2.06-.94-2.06-.94L8.5 2.5l-.94 2.06-2.06.94zm10 10l.94 2.06.94-2.06 2.06-.94-2.06-.94-.94-2.06-.94 2.06-2.06.94z\"/><path d=\"M17.41 7.96l-1.37-1.37c-.4-.4-.92-.59-1.43-.59-.52 0-1.04.2-1.43.59L10.3 9.45l-7.72 7.72c-.78.78-.78 2.05 0 2.83L4 21.41c.39.39.9.59 1.41.59.51 0 1.02-.2 1.41-.59l7.78-7.78 2.81-2.81c.8-.78.8-2.07 0-2.86zM5.41 20L4 18.59l7.72-7.72 1.47 1.35L5.41 20z\"/>\n",
              "  </svg>\n",
              "      </button>\n",
              "      \n",
              "  <style>\n",
              "    .colab-df-container {\n",
              "      display:flex;\n",
              "      flex-wrap:wrap;\n",
              "      gap: 12px;\n",
              "    }\n",
              "\n",
              "    .colab-df-convert {\n",
              "      background-color: #E8F0FE;\n",
              "      border: none;\n",
              "      border-radius: 50%;\n",
              "      cursor: pointer;\n",
              "      display: none;\n",
              "      fill: #1967D2;\n",
              "      height: 32px;\n",
              "      padding: 0 0 0 0;\n",
              "      width: 32px;\n",
              "    }\n",
              "\n",
              "    .colab-df-convert:hover {\n",
              "      background-color: #E2EBFA;\n",
              "      box-shadow: 0px 1px 2px rgba(60, 64, 67, 0.3), 0px 1px 3px 1px rgba(60, 64, 67, 0.15);\n",
              "      fill: #174EA6;\n",
              "    }\n",
              "\n",
              "    [theme=dark] .colab-df-convert {\n",
              "      background-color: #3B4455;\n",
              "      fill: #D2E3FC;\n",
              "    }\n",
              "\n",
              "    [theme=dark] .colab-df-convert:hover {\n",
              "      background-color: #434B5C;\n",
              "      box-shadow: 0px 1px 3px 1px rgba(0, 0, 0, 0.15);\n",
              "      filter: drop-shadow(0px 1px 2px rgba(0, 0, 0, 0.3));\n",
              "      fill: #FFFFFF;\n",
              "    }\n",
              "  </style>\n",
              "\n",
              "      <script>\n",
              "        const buttonEl =\n",
              "          document.querySelector('#df-edb54a08-0e29-47ee-bd1c-fdb97027156d button.colab-df-convert');\n",
              "        buttonEl.style.display =\n",
              "          google.colab.kernel.accessAllowed ? 'block' : 'none';\n",
              "\n",
              "        async function convertToInteractive(key) {\n",
              "          const element = document.querySelector('#df-edb54a08-0e29-47ee-bd1c-fdb97027156d');\n",
              "          const dataTable =\n",
              "            await google.colab.kernel.invokeFunction('convertToInteractive',\n",
              "                                                     [key], {});\n",
              "          if (!dataTable) return;\n",
              "\n",
              "          const docLinkHtml = 'Like what you see? Visit the ' +\n",
              "            '<a target=\"_blank\" href=https://colab.research.google.com/notebooks/data_table.ipynb>data table notebook</a>'\n",
              "            + ' to learn more about interactive tables.';\n",
              "          element.innerHTML = '';\n",
              "          dataTable['output_type'] = 'display_data';\n",
              "          await google.colab.output.renderOutput(dataTable, element);\n",
              "          const docLink = document.createElement('div');\n",
              "          docLink.innerHTML = docLinkHtml;\n",
              "          element.appendChild(docLink);\n",
              "        }\n",
              "      </script>\n",
              "    </div>\n",
              "  </div>\n",
              "  "
            ]
          },
          "metadata": {},
          "execution_count": 77
        }
      ]
    },
    {
      "cell_type": "markdown",
      "source": [
        "Dari tabel diatas dapat dilihat bahwa Random Forest memiliki score paling tinggi daripada lainnya"
      ],
      "metadata": {
        "id": "ef8ofR7c6hNA"
      }
    },
    {
      "cell_type": "code",
      "source": [
        "finalresult.plot(kind='bar', figsize=(14,8), color=['red','blue','green',\"yellow\"])\n",
        "plt.grid(color='black', linestyle='-', linewidth=0.2, alpha=0.2)\n",
        "plt.xlabel('Modelling')\n",
        "plt.title('Grafik Perbandingan Setiap Model')"
      ],
      "metadata": {
        "id": "GTgdwamd6vRI",
        "colab": {
          "base_uri": "https://localhost:8080/"
        },
        "outputId": "75322f92-3a71-4e9f-cdb0-e0a65d7b3a9f"
      },
      "execution_count": null,
      "outputs": [
        {
          "output_type": "execute_result",
          "data": {
            "text/plain": [
              "Text(0.5, 1.0, 'Grafik Perbandingan Setiap Model')"
            ]
          },
          "metadata": {},
          "execution_count": 78
        },
        {
          "output_type": "display_data",
          "data": {
            "text/plain": [
              "<Figure size 1008x576 with 1 Axes>"
            ],
            "image/png": "[encoded data removed]"
          },
          "metadata": {
            "needs_background": "light"
          }
        }
      ]
    },
    {
      "cell_type": "markdown",
      "source": [
        "# Model Inference"
      ],
      "metadata": {
        "id": "vJ-hUfpH1oQT"
      }
    },
    {
      "cell_type": "code",
      "source": [
        "X_new = {'Location':[0,1,15,34,48], \n",
        "         'RainToday':[0,1,0,1,1],\n",
        "         'WindDir3am':[11,1.25,2.3,20.4,4.52], \n",
        "         'WindGustDir':[12.45,20.5,11.4,45.3,30.2], \n",
        "         'WindDir9am':[10.85,4.5,12,15.5,20.3], \n",
        "         'MinTemp':[13.4,7.4,12.9,9.2,17.5], \n",
        "         'MaxTemp':[25,25.2,25.1,28,32], \n",
        "         'Rainfall':[0,0.2,0.1,1,0.6], \n",
        "         'Evaporation':[1,2,3,4,5], \n",
        "         'Sunshine':[1,2,3,4,5], \n",
        "         'WindGustSpeed':[21,32,33,44,45], \n",
        "         'WindSpeed9am':[11,20,23,14,25], \n",
        "         'WindSpeed3pm':[9,22,23,24,25], \n",
        "         'Humidity9am':[81,72,43,64,55], \n",
        "         'Humidity3pm':[21,22,23,24,25], \n",
        "         'Pressure9am':[1000.1,1000.2,1003,1004,1005.5], \n",
        "         'Pressure3pm':[1012.1,1001.2,1003.3,1014,1005], \n",
        "         'Cloud9am':[1,2,3,4,5], \n",
        "         'Cloud3pm':[1,2,3,4,5], \n",
        "         'Temp9am':[21,23,31,44,15], \n",
        "         'Temp3pm':[24,23.6,27,24,21]}\n",
        "X_new = pd.DataFrame(X_new)\n",
        "X_new.head()"
      ],
      "metadata": {
        "id": "--2Cg9bQzhiu",
        "colab": {
          "base_uri": "https://localhost:8080/",
          "height": 300
        },
        "outputId": "427b55d1-17e4-4377-c09d-7685c888a486"
      },
      "execution_count": null,
      "outputs": [
        {
          "output_type": "execute_result",
          "data": {
            "text/plain": [
              "   Location  RainToday  WindDir3am  WindGustDir  WindDir9am  MinTemp  MaxTemp  \\\n",
              "0         0          0       11.00        12.45       10.85     13.4     25.0   \n",
              "1         1          1        1.25        20.50        4.50      7.4     25.2   \n",
              "2        15          0        2.30        11.40       12.00     12.9     25.1   \n",
              "3        34          1       20.40        45.30       15.50      9.2     28.0   \n",
              "4        48          1        4.52        30.20       20.30     17.5     32.0   \n",
              "\n",
              "   Rainfall  Evaporation  Sunshine  ...  WindSpeed9am  WindSpeed3pm  \\\n",
              "0       0.0            1         1  ...            11             9   \n",
              "1       0.2            2         2  ...            20            22   \n",
              "2       0.1            3         3  ...            23            23   \n",
              "3       1.0            4         4  ...            14            24   \n",
              "4       0.6            5         5  ...            25            25   \n",
              "\n",
              "   Humidity9am  Humidity3pm  Pressure9am  Pressure3pm  Cloud9am  Cloud3pm  \\\n",
              "0           81           21       1000.1       1012.1         1         1   \n",
              "1           72           22       1000.2       1001.2         2         2   \n",
              "2           43           23       1003.0       1003.3         3         3   \n",
              "3           64           24       1004.0       1014.0         4         4   \n",
              "4           55           25       1005.5       1005.0         5         5   \n",
              "\n",
              "   Temp9am  Temp3pm  \n",
              "0       21     24.0  \n",
              "1       23     23.6  \n",
              "2       31     27.0  \n",
              "3       44     24.0  \n",
              "4       15     21.0  \n",
              "\n",
              "[5 rows x 21 columns]"
            ],
            "text/html": [
              "\n",
              "  <div id=\"df-391228f3-cfd3-43ce-85e4-eba5d125cb60\">\n",
              "    <div class=\"colab-df-container\">\n",
              "      <div>\n",
              "<style scoped>\n",
              "    .dataframe tbody tr th:only-of-type {\n",
              "        vertical-align: middle;\n",
              "    }\n",
              "\n",
              "    .dataframe tbody tr th {\n",
              "        vertical-align: top;\n",
              "    }\n",
              "\n",
              "    .dataframe thead th {\n",
              "        text-align: right;\n",
              "    }\n",
              "</style>\n",
              "<table border=\"1\" class=\"dataframe\">\n",
              "  <thead>\n",
              "    <tr style=\"text-align: right;\">\n",
              "      <th></th>\n",
              "      <th>Location</th>\n",
              "      <th>RainToday</th>\n",
              "      <th>WindDir3am</th>\n",
              "      <th>WindGustDir</th>\n",
              "      <th>WindDir9am</th>\n",
              "      <th>MinTemp</th>\n",
              "      <th>MaxTemp</th>\n",
              "      <th>Rainfall</th>\n",
              "      <th>Evaporation</th>\n",
              "      <th>Sunshine</th>\n",
              "      <th>...</th>\n",
              "      <th>WindSpeed9am</th>\n",
              "      <th>WindSpeed3pm</th>\n",
              "      <th>Humidity9am</th>\n",
              "      <th>Humidity3pm</th>\n",
              "      <th>Pressure9am</th>\n",
              "      <th>Pressure3pm</th>\n",
              "      <th>Cloud9am</th>\n",
              "      <th>Cloud3pm</th>\n",
              "      <th>Temp9am</th>\n",
              "      <th>Temp3pm</th>\n",
              "    </tr>\n",
              "  </thead>\n",
              "  <tbody>\n",
              "    <tr>\n",
              "      <th>0</th>\n",
              "      <td>0</td>\n",
              "      <td>0</td>\n",
              "      <td>11.00</td>\n",
              "      <td>12.45</td>\n",
              "      <td>10.85</td>\n",
              "      <td>13.4</td>\n",
              "      <td>25.0</td>\n",
              "      <td>0.0</td>\n",
              "      <td>1</td>\n",
              "      <td>1</td>\n",
              "      <td>...</td>\n",
              "      <td>11</td>\n",
              "      <td>9</td>\n",
              "      <td>81</td>\n",
              "      <td>21</td>\n",
              "      <td>1000.1</td>\n",
              "      <td>1012.1</td>\n",
              "      <td>1</td>\n",
              "      <td>1</td>\n",
              "      <td>21</td>\n",
              "      <td>24.0</td>\n",
              "    </tr>\n",
              "    <tr>\n",
              "      <th>1</th>\n",
              "      <td>1</td>\n",
              "      <td>1</td>\n",
              "      <td>1.25</td>\n",
              "      <td>20.50</td>\n",
              "      <td>4.50</td>\n",
              "      <td>7.4</td>\n",
              "      <td>25.2</td>\n",
              "      <td>0.2</td>\n",
              "      <td>2</td>\n",
              "      <td>2</td>\n",
              "      <td>...</td>\n",
              "      <td>20</td>\n",
              "      <td>22</td>\n",
              "      <td>72</td>\n",
              "      <td>22</td>\n",
              "      <td>1000.2</td>\n",
              "      <td>1001.2</td>\n",
              "      <td>2</td>\n",
              "      <td>2</td>\n",
              "      <td>23</td>\n",
              "      <td>23.6</td>\n",
              "    </tr>\n",
              "    <tr>\n",
              "      <th>2</th>\n",
              "      <td>15</td>\n",
              "      <td>0</td>\n",
              "      <td>2.30</td>\n",
              "      <td>11.40</td>\n",
              "      <td>12.00</td>\n",
              "      <td>12.9</td>\n",
              "      <td>25.1</td>\n",
              "      <td>0.1</td>\n",
              "      <td>3</td>\n",
              "      <td>3</td>\n",
              "      <td>...</td>\n",
              "      <td>23</td>\n",
              "      <td>23</td>\n",
              "      <td>43</td>\n",
              "      <td>23</td>\n",
              "      <td>1003.0</td>\n",
              "      <td>1003.3</td>\n",
              "      <td>3</td>\n",
              "      <td>3</td>\n",
              "      <td>31</td>\n",
              "      <td>27.0</td>\n",
              "    </tr>\n",
              "    <tr>\n",
              "      <th>3</th>\n",
              "      <td>34</td>\n",
              "      <td>1</td>\n",
              "      <td>20.40</td>\n",
              "      <td>45.30</td>\n",
              "      <td>15.50</td>\n",
              "      <td>9.2</td>\n",
              "      <td>28.0</td>\n",
              "      <td>1.0</td>\n",
              "      <td>4</td>\n",
              "      <td>4</td>\n",
              "      <td>...</td>\n",
              "      <td>14</td>\n",
              "      <td>24</td>\n",
              "      <td>64</td>\n",
              "      <td>24</td>\n",
              "      <td>1004.0</td>\n",
              "      <td>1014.0</td>\n",
              "      <td>4</td>\n",
              "      <td>4</td>\n",
              "      <td>44</td>\n",
              "      <td>24.0</td>\n",
              "    </tr>\n",
              "    <tr>\n",
              "      <th>4</th>\n",
              "      <td>48</td>\n",
              "      <td>1</td>\n",
              "      <td>4.52</td>\n",
              "      <td>30.20</td>\n",
              "      <td>20.30</td>\n",
              "      <td>17.5</td>\n",
              "      <td>32.0</td>\n",
              "      <td>0.6</td>\n",
              "      <td>5</td>\n",
              "      <td>5</td>\n",
              "      <td>...</td>\n",
              "      <td>25</td>\n",
              "      <td>25</td>\n",
              "      <td>55</td>\n",
              "      <td>25</td>\n",
              "      <td>1005.5</td>\n",
              "      <td>1005.0</td>\n",
              "      <td>5</td>\n",
              "      <td>5</td>\n",
              "      <td>15</td>\n",
              "      <td>21.0</td>\n",
              "    </tr>\n",
              "  </tbody>\n",
              "</table>\n",
              "<p>5 rows × 21 columns</p>\n",
              "</div>\n",
              "      <button class=\"colab-df-convert\" onclick=\"convertToInteractive('df-391228f3-cfd3-43ce-85e4-eba5d125cb60')\"\n",
              "              title=\"Convert this dataframe to an interactive table.\"\n",
              "              style=\"display:none;\">\n",
              "        \n",
              "  <svg xmlns=\"http://www.w3.org/2000/svg\" height=\"24px\"viewBox=\"0 0 24 24\"\n",
              "       width=\"24px\">\n",
              "    <path d=\"M0 0h24v24H0V0z\" fill=\"none\"/>\n",
              "    <path d=\"M18.56 5.44l.94 2.06.94-2.06 2.06-.94-2.06-.94-.94-2.06-.94 2.06-2.06.94zm-11 1L8.5 8.5l.94-2.06 2.06-.94-2.06-.94L8.5 2.5l-.94 2.06-2.06.94zm10 10l.94 2.06.94-2.06 2.06-.94-2.06-.94-.94-2.06-.94 2.06-2.06.94z\"/><path d=\"M17.41 7.96l-1.37-1.37c-.4-.4-.92-.59-1.43-.59-.52 0-1.04.2-1.43.59L10.3 9.45l-7.72 7.72c-.78.78-.78 2.05 0 2.83L4 21.41c.39.39.9.59 1.41.59.51 0 1.02-.2 1.41-.59l7.78-7.78 2.81-2.81c.8-.78.8-2.07 0-2.86zM5.41 20L4 18.59l7.72-7.72 1.47 1.35L5.41 20z\"/>\n",
              "  </svg>\n",
              "      </button>\n",
              "      \n",
              "  <style>\n",
              "    .colab-df-container {\n",
              "      display:flex;\n",
              "      flex-wrap:wrap;\n",
              "      gap: 12px;\n",
              "    }\n",
              "\n",
              "    .colab-df-convert {\n",
              "      background-color: #E8F0FE;\n",
              "      border: none;\n",
              "      border-radius: 50%;\n",
              "      cursor: pointer;\n",
              "      display: none;\n",
              "      fill: #1967D2;\n",
              "      height: 32px;\n",
              "      padding: 0 0 0 0;\n",
              "      width: 32px;\n",
              "    }\n",
              "\n",
              "    .colab-df-convert:hover {\n",
              "      background-color: #E2EBFA;\n",
              "      box-shadow: 0px 1px 2px rgba(60, 64, 67, 0.3), 0px 1px 3px 1px rgba(60, 64, 67, 0.15);\n",
              "      fill: #174EA6;\n",
              "    }\n",
              "\n",
              "    [theme=dark] .colab-df-convert {\n",
              "      background-color: #3B4455;\n",
              "      fill: #D2E3FC;\n",
              "    }\n",
              "\n",
              "    [theme=dark] .colab-df-convert:hover {\n",
              "      background-color: #434B5C;\n",
              "      box-shadow: 0px 1px 3px 1px rgba(0, 0, 0, 0.15);\n",
              "      filter: drop-shadow(0px 1px 2px rgba(0, 0, 0, 0.3));\n",
              "      fill: #FFFFFF;\n",
              "    }\n",
              "  </style>\n",
              "\n",
              "      <script>\n",
              "        const buttonEl =\n",
              "          document.querySelector('#df-391228f3-cfd3-43ce-85e4-eba5d125cb60 button.colab-df-convert');\n",
              "        buttonEl.style.display =\n",
              "          google.colab.kernel.accessAllowed ? 'block' : 'none';\n",
              "\n",
              "        async function convertToInteractive(key) {\n",
              "          const element = document.querySelector('#df-391228f3-cfd3-43ce-85e4-eba5d125cb60');\n",
              "          const dataTable =\n",
              "            await google.colab.kernel.invokeFunction('convertToInteractive',\n",
              "                                                     [key], {});\n",
              "          if (!dataTable) return;\n",
              "\n",
              "          const docLinkHtml = 'Like what you see? Visit the ' +\n",
              "            '<a target=\"_blank\" href=https://colab.research.google.com/notebooks/data_table.ipynb>data table notebook</a>'\n",
              "            + ' to learn more about interactive tables.';\n",
              "          element.innerHTML = '';\n",
              "          dataTable['output_type'] = 'display_data';\n",
              "          await google.colab.output.renderOutput(dataTable, element);\n",
              "          const docLink = document.createElement('div');\n",
              "          docLink.innerHTML = docLinkHtml;\n",
              "          element.appendChild(docLink);\n",
              "        }\n",
              "      </script>\n",
              "    </div>\n",
              "  </div>\n",
              "  "
            ]
          },
          "metadata": {},
          "execution_count": 88
        }
      ]
    },
    {
      "cell_type": "code",
      "source": [
        "scal = StandardScaler()\n",
        "X_new = scal.fit_transform(X_new)"
      ],
      "metadata": {
        "id": "4esSeicIFsGt"
      },
      "execution_count": null,
      "outputs": []
    },
    {
      "cell_type": "code",
      "source": [
        "y_pred = logres.predict(X_new)\n",
        "print('Prediksi Hujan: ')\n",
        "print(y_pred)"
      ],
      "metadata": {
        "id": "ldMSi27XGpSx",
        "colab": {
          "base_uri": "https://localhost:8080/",
          "height": 345
        },
        "outputId": "1b303be5-49de-45de-d862-abe5671e8b6a"
      },
      "execution_count": null,
      "outputs": [
        {
          "output_type": "error",
          "ename": "ValueError",
          "evalue": "ignored",
          "traceback": [
            "\u001b[0;31m---------------------------------------------------------------------------\u001b[0m",
            "\u001b[0;31mValueError\u001b[0m                                Traceback (most recent call last)",
            "\u001b[0;32m<ipython-input-81-efe8cab98fcc>\u001b[0m in \u001b[0;36m<module>\u001b[0;34m()\u001b[0m\n\u001b[0;32m----> 1\u001b[0;31m \u001b[0my_pred\u001b[0m \u001b[0;34m=\u001b[0m \u001b[0mlogres\u001b[0m\u001b[0;34m.\u001b[0m\u001b[0mpredict\u001b[0m\u001b[0;34m(\u001b[0m\u001b[0mX_new\u001b[0m\u001b[0;34m)\u001b[0m\u001b[0;34m\u001b[0m\u001b[0;34m\u001b[0m\u001b[0m\n\u001b[0m\u001b[1;32m      2\u001b[0m \u001b[0mprint\u001b[0m\u001b[0;34m(\u001b[0m\u001b[0;34m'Prediksi Hujan: '\u001b[0m\u001b[0;34m)\u001b[0m\u001b[0;34m\u001b[0m\u001b[0;34m\u001b[0m\u001b[0m\n\u001b[1;32m      3\u001b[0m \u001b[0mprint\u001b[0m\u001b[0;34m(\u001b[0m\u001b[0my_pred\u001b[0m\u001b[0;34m)\u001b[0m\u001b[0;34m\u001b[0m\u001b[0;34m\u001b[0m\u001b[0m\n",
            "\u001b[0;32m/usr/local/lib/python3.7/dist-packages/sklearn/linear_model/_base.py\u001b[0m in \u001b[0;36mpredict\u001b[0;34m(self, X)\u001b[0m\n\u001b[1;32m    423\u001b[0m             \u001b[0mVector\u001b[0m \u001b[0mcontaining\u001b[0m \u001b[0mthe\u001b[0m \u001b[0;32mclass\u001b[0m \u001b[0mlabels\u001b[0m \u001b[0;32mfor\u001b[0m \u001b[0meach\u001b[0m \u001b[0msample\u001b[0m\u001b[0;34m.\u001b[0m\u001b[0;34m\u001b[0m\u001b[0;34m\u001b[0m\u001b[0m\n\u001b[1;32m    424\u001b[0m         \"\"\"\n\u001b[0;32m--> 425\u001b[0;31m         \u001b[0mscores\u001b[0m \u001b[0;34m=\u001b[0m \u001b[0mself\u001b[0m\u001b[0;34m.\u001b[0m\u001b[0mdecision_function\u001b[0m\u001b[0;34m(\u001b[0m\u001b[0mX\u001b[0m\u001b[0;34m)\u001b[0m\u001b[0;34m\u001b[0m\u001b[0;34m\u001b[0m\u001b[0m\n\u001b[0m\u001b[1;32m    426\u001b[0m         \u001b[0;32mif\u001b[0m \u001b[0mlen\u001b[0m\u001b[0;34m(\u001b[0m\u001b[0mscores\u001b[0m\u001b[0;34m.\u001b[0m\u001b[0mshape\u001b[0m\u001b[0;34m)\u001b[0m \u001b[0;34m==\u001b[0m \u001b[0;36m1\u001b[0m\u001b[0;34m:\u001b[0m\u001b[0;34m\u001b[0m\u001b[0;34m\u001b[0m\u001b[0m\n\u001b[1;32m    427\u001b[0m             \u001b[0mindices\u001b[0m \u001b[0;34m=\u001b[0m \u001b[0;34m(\u001b[0m\u001b[0mscores\u001b[0m \u001b[0;34m>\u001b[0m \u001b[0;36m0\u001b[0m\u001b[0;34m)\u001b[0m\u001b[0;34m.\u001b[0m\u001b[0mastype\u001b[0m\u001b[0;34m(\u001b[0m\u001b[0mint\u001b[0m\u001b[0;34m)\u001b[0m\u001b[0;34m\u001b[0m\u001b[0;34m\u001b[0m\u001b[0m\n",
            "\u001b[0;32m/usr/local/lib/python3.7/dist-packages/sklearn/linear_model/_base.py\u001b[0m in \u001b[0;36mdecision_function\u001b[0;34m(self, X)\u001b[0m\n\u001b[1;32m    405\u001b[0m         \u001b[0mcheck_is_fitted\u001b[0m\u001b[0;34m(\u001b[0m\u001b[0mself\u001b[0m\u001b[0;34m)\u001b[0m\u001b[0;34m\u001b[0m\u001b[0;34m\u001b[0m\u001b[0m\n\u001b[1;32m    406\u001b[0m \u001b[0;34m\u001b[0m\u001b[0m\n\u001b[0;32m--> 407\u001b[0;31m         \u001b[0mX\u001b[0m \u001b[0;34m=\u001b[0m \u001b[0mself\u001b[0m\u001b[0;34m.\u001b[0m\u001b[0m_validate_data\u001b[0m\u001b[0;34m(\u001b[0m\u001b[0mX\u001b[0m\u001b[0;34m,\u001b[0m \u001b[0maccept_sparse\u001b[0m\u001b[0;34m=\u001b[0m\u001b[0;34m\"csr\"\u001b[0m\u001b[0;34m,\u001b[0m \u001b[0mreset\u001b[0m\u001b[0;34m=\u001b[0m\u001b[0;32mFalse\u001b[0m\u001b[0;34m)\u001b[0m\u001b[0;34m\u001b[0m\u001b[0;34m\u001b[0m\u001b[0m\n\u001b[0m\u001b[1;32m    408\u001b[0m         \u001b[0mscores\u001b[0m \u001b[0;34m=\u001b[0m \u001b[0msafe_sparse_dot\u001b[0m\u001b[0;34m(\u001b[0m\u001b[0mX\u001b[0m\u001b[0;34m,\u001b[0m \u001b[0mself\u001b[0m\u001b[0;34m.\u001b[0m\u001b[0mcoef_\u001b[0m\u001b[0;34m.\u001b[0m\u001b[0mT\u001b[0m\u001b[0;34m,\u001b[0m \u001b[0mdense_output\u001b[0m\u001b[0;34m=\u001b[0m\u001b[0;32mTrue\u001b[0m\u001b[0;34m)\u001b[0m \u001b[0;34m+\u001b[0m \u001b[0mself\u001b[0m\u001b[0;34m.\u001b[0m\u001b[0mintercept_\u001b[0m\u001b[0;34m\u001b[0m\u001b[0;34m\u001b[0m\u001b[0m\n\u001b[1;32m    409\u001b[0m         \u001b[0;32mreturn\u001b[0m \u001b[0mscores\u001b[0m\u001b[0;34m.\u001b[0m\u001b[0mravel\u001b[0m\u001b[0;34m(\u001b[0m\u001b[0;34m)\u001b[0m \u001b[0;32mif\u001b[0m \u001b[0mscores\u001b[0m\u001b[0;34m.\u001b[0m\u001b[0mshape\u001b[0m\u001b[0;34m[\u001b[0m\u001b[0;36m1\u001b[0m\u001b[0;34m]\u001b[0m \u001b[0;34m==\u001b[0m \u001b[0;36m1\u001b[0m \u001b[0;32melse\u001b[0m \u001b[0mscores\u001b[0m\u001b[0;34m\u001b[0m\u001b[0;34m\u001b[0m\u001b[0m\n",
            "\u001b[0;32m/usr/local/lib/python3.7/dist-packages/sklearn/base.py\u001b[0m in \u001b[0;36m_validate_data\u001b[0;34m(self, X, y, reset, validate_separately, **check_params)\u001b[0m\n\u001b[1;32m    583\u001b[0m \u001b[0;34m\u001b[0m\u001b[0m\n\u001b[1;32m    584\u001b[0m         \u001b[0;32mif\u001b[0m \u001b[0;32mnot\u001b[0m \u001b[0mno_val_X\u001b[0m \u001b[0;32mand\u001b[0m \u001b[0mcheck_params\u001b[0m\u001b[0;34m.\u001b[0m\u001b[0mget\u001b[0m\u001b[0;34m(\u001b[0m\u001b[0;34m\"ensure_2d\"\u001b[0m\u001b[0;34m,\u001b[0m \u001b[0;32mTrue\u001b[0m\u001b[0;34m)\u001b[0m\u001b[0;34m:\u001b[0m\u001b[0;34m\u001b[0m\u001b[0;34m\u001b[0m\u001b[0m\n\u001b[0;32m--> 585\u001b[0;31m             \u001b[0mself\u001b[0m\u001b[0;34m.\u001b[0m\u001b[0m_check_n_features\u001b[0m\u001b[0;34m(\u001b[0m\u001b[0mX\u001b[0m\u001b[0;34m,\u001b[0m \u001b[0mreset\u001b[0m\u001b[0;34m=\u001b[0m\u001b[0mreset\u001b[0m\u001b[0;34m)\u001b[0m\u001b[0;34m\u001b[0m\u001b[0;34m\u001b[0m\u001b[0m\n\u001b[0m\u001b[1;32m    586\u001b[0m \u001b[0;34m\u001b[0m\u001b[0m\n\u001b[1;32m    587\u001b[0m         \u001b[0;32mreturn\u001b[0m \u001b[0mout\u001b[0m\u001b[0;34m\u001b[0m\u001b[0;34m\u001b[0m\u001b[0m\n",
            "\u001b[0;32m/usr/local/lib/python3.7/dist-packages/sklearn/base.py\u001b[0m in \u001b[0;36m_check_n_features\u001b[0;34m(self, X, reset)\u001b[0m\n\u001b[1;32m    399\u001b[0m         \u001b[0;32mif\u001b[0m \u001b[0mn_features\u001b[0m \u001b[0;34m!=\u001b[0m \u001b[0mself\u001b[0m\u001b[0;34m.\u001b[0m\u001b[0mn_features_in_\u001b[0m\u001b[0;34m:\u001b[0m\u001b[0;34m\u001b[0m\u001b[0;34m\u001b[0m\u001b[0m\n\u001b[1;32m    400\u001b[0m             raise ValueError(\n\u001b[0;32m--> 401\u001b[0;31m                 \u001b[0;34mf\"X has {n_features} features, but {self.__class__.__name__} \"\u001b[0m\u001b[0;34m\u001b[0m\u001b[0;34m\u001b[0m\u001b[0m\n\u001b[0m\u001b[1;32m    402\u001b[0m                 \u001b[0;34mf\"is expecting {self.n_features_in_} features as input.\"\u001b[0m\u001b[0;34m\u001b[0m\u001b[0;34m\u001b[0m\u001b[0m\n\u001b[1;32m    403\u001b[0m             )\n",
            "\u001b[0;31mValueError\u001b[0m: X has 21 features, but LogisticRegression is expecting 22 features as input."
          ]
        }
      ]
    }
  ],
  "metadata": {
    "colab": {
      "collapsed_sections": [
        "jKGDK1lOrq8d",
        "sQbyIqbyxRiR",
        "Gn_O3azkyvvq",
        "iTjuBggV0GYj",
        "m1cqVHfV1Voi",
        "vJ-hUfpH1oQT"
      ],
      "name": "Projek2_Logistic_Regression.ipynb",
      "provenance": [],
      "toc_visible": true
    },
    "kernelspec": {
      "display_name": "Python 3",
      "name": "python3"
    },
    "language_info": {
      "name": "python"
    }
  },
  "nbformat": 4,
  "nbformat_minor": 0
}